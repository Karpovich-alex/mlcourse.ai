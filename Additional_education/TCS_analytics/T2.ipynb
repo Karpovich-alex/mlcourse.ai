{
 "cells": [
  {
   "cell_type": "code",
   "execution_count": 177,
   "metadata": {
    "collapsed": true
   },
   "outputs": [],
   "source": [
    "import matplotlib.pyplot as plt\n",
    "import pandas as pd\n",
    "from datetime import datetime\n",
    "import numpy as np\n",
    "\n",
    "%matplotlib inline"
   ]
  },
  {
   "cell_type": "code",
   "execution_count": 178,
   "outputs": [],
   "source": [
    "data = pd.read_excel(\"./data.xls\")"
   ],
   "metadata": {
    "collapsed": false,
    "pycharm": {
     "name": "#%%\n"
    }
   }
  },
  {
   "cell_type": "markdown",
   "source": [
    "В приложенном файле таблица со следующими полями:\n",
    "\n",
    "client_id -- id клиента, зарегистрированного на сайте\n",
    "birth_dt -- дата его рождения\n",
    "reg_dttm -- дата и время регистрации на сайте данного клиента\n",
    "purchase_id -- id покупки\n",
    "purchase_dt -- дата покупки\n",
    "purchase_amt -- сумма покупки\n"
   ],
   "metadata": {
    "collapsed": false,
    "pycharm": {
     "name": "#%% md\n"
    }
   }
  },
  {
   "cell_type": "code",
   "execution_count": 179,
   "outputs": [],
   "source": [
    "df = data.copy()"
   ],
   "metadata": {
    "collapsed": false,
    "pycharm": {
     "name": "#%%\n"
    }
   }
  },
  {
   "cell_type": "code",
   "execution_count": 180,
   "outputs": [
    {
     "data": {
      "text/plain": "client_id          0\nbirth_dt           0\nreg_dttm           0\npurchase_id     1138\npurchase_dt     1138\npurchase_amt    1138\ndtype: int64"
     },
     "execution_count": 180,
     "metadata": {},
     "output_type": "execute_result"
    }
   ],
   "source": [
    "df.isna().sum()"
   ],
   "metadata": {
    "collapsed": false,
    "pycharm": {
     "name": "#%%\n"
    }
   }
  },
  {
   "cell_type": "code",
   "execution_count": 181,
   "outputs": [],
   "source": [
    "df = df[~df['purchase_id'].isna()]"
   ],
   "metadata": {
    "collapsed": false,
    "pycharm": {
     "name": "#%%\n"
    }
   }
  },
  {
   "cell_type": "code",
   "execution_count": 182,
   "outputs": [],
   "source": [
    "df['age'] = np.round((datetime.now()-df['birth_dt']).dt.days/ 365.25, 0).astype(int)"
   ],
   "metadata": {
    "collapsed": false,
    "pycharm": {
     "name": "#%%\n"
    }
   }
  },
  {
   "cell_type": "code",
   "execution_count": 183,
   "outputs": [
    {
     "data": {
      "text/plain": "    client_id   birth_dt            reg_dttm   purchase_id purchase_dt  \\\n2      820523 1991-04-01 2019-01-02 19:51:19  1.204926e+09  2019-02-12   \n6      820561 1993-10-22 2019-01-04 14:39:43  1.205778e+09  2019-02-13   \n12     820607 1970-09-27 2019-01-05 07:54:45  1.223152e+09  2019-02-21   \n13     820607 1970-09-27 2019-01-05 07:54:45  1.243945e+09  2019-03-09   \n14     820628 2000-09-08 2019-01-06 12:54:53  1.231402e+09  2019-02-27   \n\n    purchase_amt  age  \n2          500.0   31  \n6          500.0   28  \n12        5000.0   52  \n13        1500.0   52  \n14         500.0   22  ",
      "text/html": "<div>\n<style scoped>\n    .dataframe tbody tr th:only-of-type {\n        vertical-align: middle;\n    }\n\n    .dataframe tbody tr th {\n        vertical-align: top;\n    }\n\n    .dataframe thead th {\n        text-align: right;\n    }\n</style>\n<table border=\"1\" class=\"dataframe\">\n  <thead>\n    <tr style=\"text-align: right;\">\n      <th></th>\n      <th>client_id</th>\n      <th>birth_dt</th>\n      <th>reg_dttm</th>\n      <th>purchase_id</th>\n      <th>purchase_dt</th>\n      <th>purchase_amt</th>\n      <th>age</th>\n    </tr>\n  </thead>\n  <tbody>\n    <tr>\n      <th>2</th>\n      <td>820523</td>\n      <td>1991-04-01</td>\n      <td>2019-01-02 19:51:19</td>\n      <td>1.204926e+09</td>\n      <td>2019-02-12</td>\n      <td>500.0</td>\n      <td>31</td>\n    </tr>\n    <tr>\n      <th>6</th>\n      <td>820561</td>\n      <td>1993-10-22</td>\n      <td>2019-01-04 14:39:43</td>\n      <td>1.205778e+09</td>\n      <td>2019-02-13</td>\n      <td>500.0</td>\n      <td>28</td>\n    </tr>\n    <tr>\n      <th>12</th>\n      <td>820607</td>\n      <td>1970-09-27</td>\n      <td>2019-01-05 07:54:45</td>\n      <td>1.223152e+09</td>\n      <td>2019-02-21</td>\n      <td>5000.0</td>\n      <td>52</td>\n    </tr>\n    <tr>\n      <th>13</th>\n      <td>820607</td>\n      <td>1970-09-27</td>\n      <td>2019-01-05 07:54:45</td>\n      <td>1.243945e+09</td>\n      <td>2019-03-09</td>\n      <td>1500.0</td>\n      <td>52</td>\n    </tr>\n    <tr>\n      <th>14</th>\n      <td>820628</td>\n      <td>2000-09-08</td>\n      <td>2019-01-06 12:54:53</td>\n      <td>1.231402e+09</td>\n      <td>2019-02-27</td>\n      <td>500.0</td>\n      <td>22</td>\n    </tr>\n  </tbody>\n</table>\n</div>"
     },
     "execution_count": 183,
     "metadata": {},
     "output_type": "execute_result"
    }
   ],
   "source": [
    "df.head()"
   ],
   "metadata": {
    "collapsed": false,
    "pycharm": {
     "name": "#%%\n"
    }
   }
  },
  {
   "cell_type": "code",
   "execution_count": 188,
   "outputs": [
    {
     "data": {
      "text/plain": "                          client_id\nage_groups    reg_dttm             \n(20.95, 31.0] 2019-01-06          5\n              2019-01-13         28\n              2019-01-20         52\n              2019-01-27         67\n              2019-02-03         54\n...                             ...\n(61.0, 71.0]  2019-03-10          0\n              2019-03-17          0\n              2019-03-24          0\n              2019-03-31          0\n              2019-04-07          0\n\n[70 rows x 1 columns]",
      "text/html": "<div>\n<style scoped>\n    .dataframe tbody tr th:only-of-type {\n        vertical-align: middle;\n    }\n\n    .dataframe tbody tr th {\n        vertical-align: top;\n    }\n\n    .dataframe thead th {\n        text-align: right;\n    }\n</style>\n<table border=\"1\" class=\"dataframe\">\n  <thead>\n    <tr style=\"text-align: right;\">\n      <th></th>\n      <th></th>\n      <th>client_id</th>\n    </tr>\n    <tr>\n      <th>age_groups</th>\n      <th>reg_dttm</th>\n      <th></th>\n    </tr>\n  </thead>\n  <tbody>\n    <tr>\n      <th rowspan=\"5\" valign=\"top\">(20.95, 31.0]</th>\n      <th>2019-01-06</th>\n      <td>5</td>\n    </tr>\n    <tr>\n      <th>2019-01-13</th>\n      <td>28</td>\n    </tr>\n    <tr>\n      <th>2019-01-20</th>\n      <td>52</td>\n    </tr>\n    <tr>\n      <th>2019-01-27</th>\n      <td>67</td>\n    </tr>\n    <tr>\n      <th>2019-02-03</th>\n      <td>54</td>\n    </tr>\n    <tr>\n      <th>...</th>\n      <th>...</th>\n      <td>...</td>\n    </tr>\n    <tr>\n      <th rowspan=\"5\" valign=\"top\">(61.0, 71.0]</th>\n      <th>2019-03-10</th>\n      <td>0</td>\n    </tr>\n    <tr>\n      <th>2019-03-17</th>\n      <td>0</td>\n    </tr>\n    <tr>\n      <th>2019-03-24</th>\n      <td>0</td>\n    </tr>\n    <tr>\n      <th>2019-03-31</th>\n      <td>0</td>\n    </tr>\n    <tr>\n      <th>2019-04-07</th>\n      <td>0</td>\n    </tr>\n  </tbody>\n</table>\n<p>70 rows × 1 columns</p>\n</div>"
     },
     "execution_count": 188,
     "metadata": {},
     "output_type": "execute_result"
    }
   ],
   "source": [
    "df['age_groups'] = pd.cut(df['age'], 5)\n",
    "df[['age_groups', 'client_id', 'reg_dttm']].groupby(['age_groups', pd.Grouper(key='reg_dttm', freq='W')]).count()"
   ],
   "metadata": {
    "collapsed": false,
    "pycharm": {
     "name": "#%%\n"
    }
   }
  },
  {
   "cell_type": "code",
   "execution_count": 189,
   "outputs": [
    {
     "data": {
      "text/plain": "    client_id   birth_dt            reg_dttm   purchase_id purchase_dt  \\\n2      820523 1991-04-01 2019-01-02 19:51:19  1.204926e+09  2019-02-12   \n6      820561 1993-10-22 2019-01-04 14:39:43  1.205778e+09  2019-02-13   \n12     820607 1970-09-27 2019-01-05 07:54:45  1.223152e+09  2019-02-21   \n13     820607 1970-09-27 2019-01-05 07:54:45  1.243945e+09  2019-03-09   \n14     820628 2000-09-08 2019-01-06 12:54:53  1.231402e+09  2019-02-27   \n\n    purchase_amt  age     age_groups  \n2          500.0   31  (20.95, 31.0]  \n6          500.0   28  (20.95, 31.0]  \n12        5000.0   52   (51.0, 61.0]  \n13        1500.0   52   (51.0, 61.0]  \n14         500.0   22  (20.95, 31.0]  ",
      "text/html": "<div>\n<style scoped>\n    .dataframe tbody tr th:only-of-type {\n        vertical-align: middle;\n    }\n\n    .dataframe tbody tr th {\n        vertical-align: top;\n    }\n\n    .dataframe thead th {\n        text-align: right;\n    }\n</style>\n<table border=\"1\" class=\"dataframe\">\n  <thead>\n    <tr style=\"text-align: right;\">\n      <th></th>\n      <th>client_id</th>\n      <th>birth_dt</th>\n      <th>reg_dttm</th>\n      <th>purchase_id</th>\n      <th>purchase_dt</th>\n      <th>purchase_amt</th>\n      <th>age</th>\n      <th>age_groups</th>\n    </tr>\n  </thead>\n  <tbody>\n    <tr>\n      <th>2</th>\n      <td>820523</td>\n      <td>1991-04-01</td>\n      <td>2019-01-02 19:51:19</td>\n      <td>1.204926e+09</td>\n      <td>2019-02-12</td>\n      <td>500.0</td>\n      <td>31</td>\n      <td>(20.95, 31.0]</td>\n    </tr>\n    <tr>\n      <th>6</th>\n      <td>820561</td>\n      <td>1993-10-22</td>\n      <td>2019-01-04 14:39:43</td>\n      <td>1.205778e+09</td>\n      <td>2019-02-13</td>\n      <td>500.0</td>\n      <td>28</td>\n      <td>(20.95, 31.0]</td>\n    </tr>\n    <tr>\n      <th>12</th>\n      <td>820607</td>\n      <td>1970-09-27</td>\n      <td>2019-01-05 07:54:45</td>\n      <td>1.223152e+09</td>\n      <td>2019-02-21</td>\n      <td>5000.0</td>\n      <td>52</td>\n      <td>(51.0, 61.0]</td>\n    </tr>\n    <tr>\n      <th>13</th>\n      <td>820607</td>\n      <td>1970-09-27</td>\n      <td>2019-01-05 07:54:45</td>\n      <td>1.243945e+09</td>\n      <td>2019-03-09</td>\n      <td>1500.0</td>\n      <td>52</td>\n      <td>(51.0, 61.0]</td>\n    </tr>\n    <tr>\n      <th>14</th>\n      <td>820628</td>\n      <td>2000-09-08</td>\n      <td>2019-01-06 12:54:53</td>\n      <td>1.231402e+09</td>\n      <td>2019-02-27</td>\n      <td>500.0</td>\n      <td>22</td>\n      <td>(20.95, 31.0]</td>\n    </tr>\n  </tbody>\n</table>\n</div>"
     },
     "execution_count": 189,
     "metadata": {},
     "output_type": "execute_result"
    }
   ],
   "source": [
    "df.head()"
   ],
   "metadata": {
    "collapsed": false,
    "pycharm": {
     "name": "#%%\n"
    }
   }
  },
  {
   "cell_type": "code",
   "execution_count": 190,
   "outputs": [],
   "source": [
    "clients_count_weeks = df[['age_groups', 'client_id', 'reg_dttm']].groupby(['age_groups', pd.Grouper(key='reg_dttm', freq='W')]).count()"
   ],
   "metadata": {
    "collapsed": false,
    "pycharm": {
     "name": "#%%\n"
    }
   }
  },
  {
   "cell_type": "code",
   "execution_count": 191,
   "outputs": [
    {
     "data": {
      "text/plain": "CategoricalIndex([(20.95, 31.0], (31.0, 41.0], (41.0, 51.0], (51.0, 61.0],\n                  (61.0, 71.0]],\n                 categories=[(20.95, 31.0], (31.0, 41.0], (41.0, 51.0], (51.0, 61.0], (61.0, 71.0]], ordered=True, dtype='category', name='age_groups')"
     },
     "execution_count": 191,
     "metadata": {},
     "output_type": "execute_result"
    }
   ],
   "source": [
    "clients_count_weeks.index.get_level_values('age_groups').unique()"
   ],
   "metadata": {
    "collapsed": false,
    "pycharm": {
     "name": "#%%\n"
    }
   }
  },
  {
   "cell_type": "markdown",
   "source": [
    "Постройте диаграмму (или график), которая показывает, как менялось множество клиентов по возрасту с течением времени."
   ],
   "metadata": {
    "collapsed": false,
    "pycharm": {
     "name": "#%% md\n"
    }
   }
  },
  {
   "cell_type": "code",
   "execution_count": null,
   "outputs": [],
   "source": [
    "df = data.copy()\n",
    "df = df[~df['purchase_id'].isna()]\n",
    "df['age'] = np.round((datetime.now()-df['birth_dt']).dt.days/ 365.25, 0).astype(int)\n",
    "df['age_groups'] = pd.cut(df['age'], 5)\n",
    "clients_count_weeks = df[['age_groups', 'client_id', 'reg_dttm']].groupby(['age_groups', pd.Grouper(key='reg_dttm', freq='W')]).count()\n",
    "fig, ax = plt.subplots(figsize=(8, 6))\n",
    "for idx in clients_count_weeks.index.get_level_values('age_groups').unique():\n",
    "    ax.plot(clients_count_weeks.xs(idx, level='age_groups').index, clients_count_weeks.xs(idx, level='age_groups').values, label=str(idx))\n",
    "ax.legend()\n",
    "ax.grid()\n",
    "plt.ylim(bottom=0)\n",
    "plt.xticks(rotation=20)\n",
    "plt.show()"
   ],
   "metadata": {
    "collapsed": false,
    "pycharm": {
     "name": "#%%\n"
    }
   }
  },
  {
   "cell_type": "code",
   "execution_count": null,
   "outputs": [],
   "source": [
    "fig, ax = plt.subplots(figsize=(8, 6))\n",
    "for idx in clients_count_weeks.index.get_level_values('age_groups').unique():\n",
    "    ax.plot(clients_count_weeks.xs(idx, level='age_groups').index, clients_count_weeks.xs(idx, level='age_groups').values, label=str(idx))\n",
    "ax.legend()\n",
    "ax.grid()\n",
    "plt.ylim(bottom=0)\n",
    "plt.xticks(rotation=20)\n",
    "plt.show()"
   ],
   "metadata": {
    "collapsed": false,
    "pycharm": {
     "name": "#%%\n"
    }
   }
  },
  {
   "cell_type": "markdown",
   "source": [
    "Рассматриваем следующий процесс: заявители регистрируются на сайте Тинькофф Квест, где указывают свой возраст. Всех зарегистрированных называем клиентами.\n",
    "\n",
    "\n",
    "\n",
    "В дальнейшем кто-то из них совершает с созданного аккаунта покупки сертификатов на квест. Будем называть это утилизацией. Число дней от регистрации на сайте до первой покупки будем называть скоростью утилизации.\n",
    "Если данные по покупке пустые -- клиент не совершил утилизации.\n",
    "\n",
    "Постройте диаграмму (или график), которая показывает, как по возрастным сегментам отличается конверсия в утилизацию."
   ],
   "metadata": {
    "collapsed": false,
    "pycharm": {
     "name": "#%% md\n"
    }
   }
  },
  {
   "cell_type": "code",
   "execution_count": 195,
   "outputs": [],
   "source": [
    "df = data.copy()"
   ],
   "metadata": {
    "collapsed": false,
    "pycharm": {
     "name": "#%%\n"
    }
   }
  },
  {
   "cell_type": "code",
   "execution_count": 206,
   "outputs": [],
   "source": [
    "df['age'] = np.round((datetime.now()-df['birth_dt']).dt.days/ 365.25, 0).astype(int)\n",
    "df['age_groups'] = pd.cut(df['age'], 5)"
   ],
   "metadata": {
    "collapsed": false,
    "pycharm": {
     "name": "#%%\n"
    }
   }
  },
  {
   "cell_type": "code",
   "execution_count": 202,
   "outputs": [],
   "source": [
    "df['purchased'] = (~df['purchase_id'].isna()).astype(int)"
   ],
   "metadata": {
    "collapsed": false,
    "pycharm": {
     "name": "#%%\n"
    }
   }
  },
  {
   "cell_type": "code",
   "execution_count": 208,
   "outputs": [
    {
     "data": {
      "text/plain": "                purchased\nage_groups               \n(20.945, 32.0]        789\n(32.0, 43.0]          262\n(43.0, 54.0]          127\n(54.0, 65.0]           55\n(65.0, 76.0]            6",
      "text/html": "<div>\n<style scoped>\n    .dataframe tbody tr th:only-of-type {\n        vertical-align: middle;\n    }\n\n    .dataframe tbody tr th {\n        vertical-align: top;\n    }\n\n    .dataframe thead th {\n        text-align: right;\n    }\n</style>\n<table border=\"1\" class=\"dataframe\">\n  <thead>\n    <tr style=\"text-align: right;\">\n      <th></th>\n      <th>purchased</th>\n    </tr>\n    <tr>\n      <th>age_groups</th>\n      <th></th>\n    </tr>\n  </thead>\n  <tbody>\n    <tr>\n      <th>(20.945, 32.0]</th>\n      <td>789</td>\n    </tr>\n    <tr>\n      <th>(32.0, 43.0]</th>\n      <td>262</td>\n    </tr>\n    <tr>\n      <th>(43.0, 54.0]</th>\n      <td>127</td>\n    </tr>\n    <tr>\n      <th>(54.0, 65.0]</th>\n      <td>55</td>\n    </tr>\n    <tr>\n      <th>(65.0, 76.0]</th>\n      <td>6</td>\n    </tr>\n  </tbody>\n</table>\n</div>"
     },
     "execution_count": 208,
     "metadata": {},
     "output_type": "execute_result"
    }
   ],
   "source": [
    "df[['age_groups', 'purchased']].groupby(['age_groups']).sum()"
   ],
   "metadata": {
    "collapsed": false,
    "pycharm": {
     "name": "#%%\n"
    }
   }
  },
  {
   "cell_type": "code",
   "execution_count": 221,
   "outputs": [],
   "source": [
    "conversion = df[['age_groups', 'purchased']].groupby(['age_groups']).sum()/df['purchased'].sum()*100"
   ],
   "metadata": {
    "collapsed": false,
    "pycharm": {
     "name": "#%%\n"
    }
   }
  },
  {
   "cell_type": "code",
   "execution_count": 222,
   "outputs": [
    {
     "data": {
      "text/plain": "                purchased\nage_groups               \n(20.945, 32.0]  63.680387\n(32.0, 43.0]    21.146086\n(43.0, 54.0]    10.250202\n(54.0, 65.0]     4.439064\n(65.0, 76.0]     0.484262",
      "text/html": "<div>\n<style scoped>\n    .dataframe tbody tr th:only-of-type {\n        vertical-align: middle;\n    }\n\n    .dataframe tbody tr th {\n        vertical-align: top;\n    }\n\n    .dataframe thead th {\n        text-align: right;\n    }\n</style>\n<table border=\"1\" class=\"dataframe\">\n  <thead>\n    <tr style=\"text-align: right;\">\n      <th></th>\n      <th>purchased</th>\n    </tr>\n    <tr>\n      <th>age_groups</th>\n      <th></th>\n    </tr>\n  </thead>\n  <tbody>\n    <tr>\n      <th>(20.945, 32.0]</th>\n      <td>63.680387</td>\n    </tr>\n    <tr>\n      <th>(32.0, 43.0]</th>\n      <td>21.146086</td>\n    </tr>\n    <tr>\n      <th>(43.0, 54.0]</th>\n      <td>10.250202</td>\n    </tr>\n    <tr>\n      <th>(54.0, 65.0]</th>\n      <td>4.439064</td>\n    </tr>\n    <tr>\n      <th>(65.0, 76.0]</th>\n      <td>0.484262</td>\n    </tr>\n  </tbody>\n</table>\n</div>"
     },
     "execution_count": 222,
     "metadata": {},
     "output_type": "execute_result"
    }
   ],
   "source": [
    "conversion"
   ],
   "metadata": {
    "collapsed": false,
    "pycharm": {
     "name": "#%%\n"
    }
   }
  },
  {
   "cell_type": "code",
   "execution_count": 251,
   "outputs": [
    {
     "data": {
      "text/plain": "<Figure size 432x288 with 1 Axes>",
      "image/png": "[encoded data removed]"
     },
     "metadata": {},
     "output_type": "display_data"
    }
   ],
   "source": [
    "df = data.copy()\n",
    "df['age'] = np.round((datetime.now()-df['birth_dt']).dt.days/ 365.25, 0).astype(int)\n",
    "df['age_groups'] = pd.cut(df['age'], 5)\n",
    "df['purchased'] = (~df['purchase_id'].isna()).astype(int)\n",
    "conversion = df[['age_groups', 'purchased']].groupby(['age_groups']).sum()/df['purchased'].sum()*100\n",
    "plt.pie(conversion.values[:,0], labels=conversion.index);"
   ],
   "metadata": {
    "collapsed": false,
    "pycharm": {
     "name": "#%%\n"
    }
   }
  },
  {
   "cell_type": "code",
   "execution_count": 262,
   "outputs": [],
   "source": [
    "conversion2 = df[['age_groups', 'purchased']].groupby(['age_groups']).sum()/df[['age_groups', 'purchased']].groupby(['age_groups']).count()"
   ],
   "metadata": {
    "collapsed": false,
    "pycharm": {
     "name": "#%%\n"
    }
   }
  },
  {
   "cell_type": "code",
   "execution_count": 275,
   "outputs": [
    {
     "data": {
      "text/plain": "                purchased\nage_groups               \n(20.945, 32.0]   0.533108\n(32.0, 43.0]     0.479853\n(43.0, 54.0]     0.526971\n(54.0, 65.0]     0.550000\n(65.0, 76.0]     0.600000",
      "text/html": "<div>\n<style scoped>\n    .dataframe tbody tr th:only-of-type {\n        vertical-align: middle;\n    }\n\n    .dataframe tbody tr th {\n        vertical-align: top;\n    }\n\n    .dataframe thead th {\n        text-align: right;\n    }\n</style>\n<table border=\"1\" class=\"dataframe\">\n  <thead>\n    <tr style=\"text-align: right;\">\n      <th></th>\n      <th>purchased</th>\n    </tr>\n    <tr>\n      <th>age_groups</th>\n      <th></th>\n    </tr>\n  </thead>\n  <tbody>\n    <tr>\n      <th>(20.945, 32.0]</th>\n      <td>0.533108</td>\n    </tr>\n    <tr>\n      <th>(32.0, 43.0]</th>\n      <td>0.479853</td>\n    </tr>\n    <tr>\n      <th>(43.0, 54.0]</th>\n      <td>0.526971</td>\n    </tr>\n    <tr>\n      <th>(54.0, 65.0]</th>\n      <td>0.550000</td>\n    </tr>\n    <tr>\n      <th>(65.0, 76.0]</th>\n      <td>0.600000</td>\n    </tr>\n  </tbody>\n</table>\n</div>"
     },
     "execution_count": 275,
     "metadata": {},
     "output_type": "execute_result"
    }
   ],
   "source": [
    "conversion2"
   ],
   "metadata": {
    "collapsed": false,
    "pycharm": {
     "name": "#%%\n"
    }
   }
  },
  {
   "cell_type": "code",
   "execution_count": 274,
   "outputs": [
    {
     "data": {
      "text/plain": "<Figure size 432x288 with 1 Axes>",
      "image/png": "[encoded data removed]"
     },
     "metadata": {
      "needs_background": "light"
     },
     "output_type": "display_data"
    }
   ],
   "source": [
    "plt.bar(conversion2.index.astype(str), conversion2.values[:,0])\n",
    "plt.xticks(rotation=20)\n",
    "plt.show()"
   ],
   "metadata": {
    "collapsed": false,
    "pycharm": {
     "name": "#%%\n"
    }
   }
  },
  {
   "cell_type": "markdown",
   "source": [],
   "metadata": {
    "collapsed": false
   }
  },
  {
   "cell_type": "markdown",
   "source": [
    "Рассматриваем следующий процесс: заявители регистрируются на сайте Тинькофф Квест, где указывают свой возраст. Всех зарегистрированных называем клиентами.\n",
    "\n",
    "В дальнейшем кто-то из них совершает с созданного аккаунта покупки сертификатов на квест. Будем называть это утилизацией. Число дней от регистрации на сайте до первой покупки будем называть скоростью утилизации.\n",
    "Если данные по покупке пустые -- клиент не совершил утилизации.\n",
    "Постройте диаграмму (или график), которая показывает, как скорость утилизации влияет на размер первой покупки."
   ],
   "metadata": {
    "collapsed": false,
    "pycharm": {
     "name": "#%% md\n"
    }
   }
  },
  {
   "cell_type": "code",
   "execution_count": 276,
   "outputs": [],
   "source": [
    "df = data.copy()"
   ],
   "metadata": {
    "collapsed": false,
    "pycharm": {
     "name": "#%%\n"
    }
   }
  },
  {
   "cell_type": "code",
   "execution_count": 278,
   "outputs": [],
   "source": [
    "df = df[~df['purchase_id'].isna()]"
   ],
   "metadata": {
    "collapsed": false,
    "pycharm": {
     "name": "#%%\n"
    }
   }
  },
  {
   "cell_type": "code",
   "execution_count": 300,
   "outputs": [],
   "source": [
    "df['purchase_speed'] = df['purchase_dt'].dt.date - df['reg_dttm'].dt.date"
   ],
   "metadata": {
    "collapsed": false,
    "pycharm": {
     "name": "#%%\n"
    }
   }
  },
  {
   "cell_type": "code",
   "execution_count": 301,
   "outputs": [
    {
     "data": {
      "text/plain": "    client_id   birth_dt            reg_dttm   purchase_id purchase_dt  \\\n2      820523 1991-04-01 2019-01-02 19:51:19  1.204926e+09  2019-02-12   \n6      820561 1993-10-22 2019-01-04 14:39:43  1.205778e+09  2019-02-13   \n12     820607 1970-09-27 2019-01-05 07:54:45  1.223152e+09  2019-02-21   \n13     820607 1970-09-27 2019-01-05 07:54:45  1.243945e+09  2019-03-09   \n14     820628 2000-09-08 2019-01-06 12:54:53  1.231402e+09  2019-02-27   \n\n    purchase_amt purchase_speed  \n2          500.0        41 days  \n6          500.0        40 days  \n12        5000.0        47 days  \n13        1500.0        63 days  \n14         500.0        52 days  ",
      "text/html": "<div>\n<style scoped>\n    .dataframe tbody tr th:only-of-type {\n        vertical-align: middle;\n    }\n\n    .dataframe tbody tr th {\n        vertical-align: top;\n    }\n\n    .dataframe thead th {\n        text-align: right;\n    }\n</style>\n<table border=\"1\" class=\"dataframe\">\n  <thead>\n    <tr style=\"text-align: right;\">\n      <th></th>\n      <th>client_id</th>\n      <th>birth_dt</th>\n      <th>reg_dttm</th>\n      <th>purchase_id</th>\n      <th>purchase_dt</th>\n      <th>purchase_amt</th>\n      <th>purchase_speed</th>\n    </tr>\n  </thead>\n  <tbody>\n    <tr>\n      <th>2</th>\n      <td>820523</td>\n      <td>1991-04-01</td>\n      <td>2019-01-02 19:51:19</td>\n      <td>1.204926e+09</td>\n      <td>2019-02-12</td>\n      <td>500.0</td>\n      <td>41 days</td>\n    </tr>\n    <tr>\n      <th>6</th>\n      <td>820561</td>\n      <td>1993-10-22</td>\n      <td>2019-01-04 14:39:43</td>\n      <td>1.205778e+09</td>\n      <td>2019-02-13</td>\n      <td>500.0</td>\n      <td>40 days</td>\n    </tr>\n    <tr>\n      <th>12</th>\n      <td>820607</td>\n      <td>1970-09-27</td>\n      <td>2019-01-05 07:54:45</td>\n      <td>1.223152e+09</td>\n      <td>2019-02-21</td>\n      <td>5000.0</td>\n      <td>47 days</td>\n    </tr>\n    <tr>\n      <th>13</th>\n      <td>820607</td>\n      <td>1970-09-27</td>\n      <td>2019-01-05 07:54:45</td>\n      <td>1.243945e+09</td>\n      <td>2019-03-09</td>\n      <td>1500.0</td>\n      <td>63 days</td>\n    </tr>\n    <tr>\n      <th>14</th>\n      <td>820628</td>\n      <td>2000-09-08</td>\n      <td>2019-01-06 12:54:53</td>\n      <td>1.231402e+09</td>\n      <td>2019-02-27</td>\n      <td>500.0</td>\n      <td>52 days</td>\n    </tr>\n  </tbody>\n</table>\n</div>"
     },
     "execution_count": 301,
     "metadata": {},
     "output_type": "execute_result"
    }
   ],
   "source": [
    "df.head()"
   ],
   "metadata": {
    "collapsed": false,
    "pycharm": {
     "name": "#%%\n"
    }
   }
  },
  {
   "cell_type": "code",
   "execution_count": 303,
   "outputs": [
    {
     "data": {
      "text/plain": "<Figure size 432x288 with 1 Axes>",
      "image/png": "[encoded data removed]"
     },
     "metadata": {
      "needs_background": "light"
     },
     "output_type": "display_data"
    }
   ],
   "source": [
    "plt.scatter(df['purchase_speed'].dt.days, df['purchase_amt']);"
   ],
   "metadata": {
    "collapsed": false,
    "pycharm": {
     "name": "#%%\n"
    }
   }
  },
  {
   "cell_type": "code",
   "execution_count": 304,
   "outputs": [
    {
     "data": {
      "text/plain": "<Figure size 432x288 with 1 Axes>",
      "image/png": "[encoded data removed]"
     },
     "metadata": {
      "needs_background": "light"
     },
     "output_type": "display_data"
    }
   ],
   "source": [
    "plt.boxplot(df['purchase_speed'].dt.days);"
   ],
   "metadata": {
    "collapsed": false,
    "pycharm": {
     "name": "#%%\n"
    }
   }
  }
 ],
 "metadata": {
  "kernelspec": {
   "display_name": "Python 3",
   "language": "python",
   "name": "python3"
  },
  "language_info": {
   "codemirror_mode": {
    "name": "ipython",
    "version": 2
   },
   "file_extension": ".py",
   "mimetype": "text/x-python",
   "name": "python",
   "nbconvert_exporter": "python",
   "pygments_lexer": "ipython2",
   "version": "2.7.6"
  }
 },
 "nbformat": 4,
 "nbformat_minor": 0
}