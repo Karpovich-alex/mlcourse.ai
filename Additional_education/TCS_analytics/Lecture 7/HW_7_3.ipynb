{
 "cells": [
  {
   "cell_type": "code",
   "execution_count": 41,
   "id": "f66efcb1",
   "metadata": {
    "ExecuteTime": {
     "end_time": "2022-04-26T19:56:59.042935Z",
     "start_time": "2022-04-26T19:56:56.543478Z"
    }
   },
   "outputs": [],
   "source": [
    "import pandas as pd\n",
    "from matplotlib import pyplot as plt\n",
    "import seaborn as sns\n",
    "sns.set_theme()\n",
    "%matplotlib inline"
   ]
  },
  {
   "cell_type": "code",
   "execution_count": 94,
   "id": "4a228fc5",
   "metadata": {
    "ExecuteTime": {
     "end_time": "2022-04-26T20:17:03.819020Z",
     "start_time": "2022-04-26T20:17:03.525768Z"
    }
   },
   "outputs": [],
   "source": [
    "df = pd.read_excel('dataset.xlsx')"
   ]
  },
  {
   "cell_type": "code",
   "execution_count": 95,
   "id": "da098bbe",
   "metadata": {
    "ExecuteTime": {
     "end_time": "2022-04-26T20:17:04.841089Z",
     "start_time": "2022-04-26T20:17:04.822086Z"
    }
   },
   "outputs": [
    {
     "data": {
      "text/html": [
       "<div>\n",
       "<style scoped>\n",
       "    .dataframe tbody tr th:only-of-type {\n",
       "        vertical-align: middle;\n",
       "    }\n",
       "\n",
       "    .dataframe tbody tr th {\n",
       "        vertical-align: top;\n",
       "    }\n",
       "\n",
       "    .dataframe thead th {\n",
       "        text-align: right;\n",
       "    }\n",
       "</style>\n",
       "<table border=\"1\" class=\"dataframe\">\n",
       "  <thead>\n",
       "    <tr style=\"text-align: right;\">\n",
       "      <th></th>\n",
       "      <th>card_nm</th>\n",
       "      <th>card_id</th>\n",
       "      <th>receive_dt</th>\n",
       "      <th>use_dt</th>\n",
       "    </tr>\n",
       "  </thead>\n",
       "  <tbody>\n",
       "    <tr>\n",
       "      <th>0</th>\n",
       "      <td>Beta</td>\n",
       "      <td>7637320</td>\n",
       "      <td>2020-11-02</td>\n",
       "      <td>NaT</td>\n",
       "    </tr>\n",
       "    <tr>\n",
       "      <th>1</th>\n",
       "      <td>Alpha</td>\n",
       "      <td>7635974</td>\n",
       "      <td>2020-11-02</td>\n",
       "      <td>NaT</td>\n",
       "    </tr>\n",
       "    <tr>\n",
       "      <th>2</th>\n",
       "      <td>Alpha</td>\n",
       "      <td>7635511</td>\n",
       "      <td>2020-11-02</td>\n",
       "      <td>NaT</td>\n",
       "    </tr>\n",
       "    <tr>\n",
       "      <th>3</th>\n",
       "      <td>Gamma</td>\n",
       "      <td>7635258</td>\n",
       "      <td>2020-11-02</td>\n",
       "      <td>2020-12-13</td>\n",
       "    </tr>\n",
       "    <tr>\n",
       "      <th>4</th>\n",
       "      <td>Beta</td>\n",
       "      <td>7634217</td>\n",
       "      <td>2020-11-02</td>\n",
       "      <td>NaT</td>\n",
       "    </tr>\n",
       "  </tbody>\n",
       "</table>\n",
       "</div>"
      ],
      "text/plain": [
       "  card_nm  card_id receive_dt     use_dt\n",
       "0    Beta  7637320 2020-11-02        NaT\n",
       "1   Alpha  7635974 2020-11-02        NaT\n",
       "2   Alpha  7635511 2020-11-02        NaT\n",
       "3   Gamma  7635258 2020-11-02 2020-12-13\n",
       "4    Beta  7634217 2020-11-02        NaT"
      ]
     },
     "execution_count": 95,
     "metadata": {},
     "output_type": "execute_result"
    }
   ],
   "source": [
    "df.head()"
   ]
  },
  {
   "cell_type": "code",
   "execution_count": 96,
   "id": "061c4b0e",
   "metadata": {
    "ExecuteTime": {
     "end_time": "2022-04-26T20:17:06.826814Z",
     "start_time": "2022-04-26T20:17:06.806599Z"
    }
   },
   "outputs": [
    {
     "name": "stdout",
     "output_type": "stream",
     "text": [
      "<class 'pandas.core.frame.DataFrame'>\n",
      "RangeIndex: 6764 entries, 0 to 6763\n",
      "Data columns (total 4 columns):\n",
      " #   Column      Non-Null Count  Dtype         \n",
      "---  ------      --------------  -----         \n",
      " 0   card_nm     6764 non-null   object        \n",
      " 1   card_id     6764 non-null   int64         \n",
      " 2   receive_dt  6764 non-null   datetime64[ns]\n",
      " 3   use_dt      1594 non-null   datetime64[ns]\n",
      "dtypes: datetime64[ns](2), int64(1), object(1)\n",
      "memory usage: 211.5+ KB\n"
     ]
    }
   ],
   "source": [
    "df.info()"
   ]
  },
  {
   "cell_type": "markdown",
   "id": "76897987",
   "metadata": {},
   "source": [
    "Добавим переменную, отвечающую за то, использовали ли купон или нет"
   ]
  },
  {
   "cell_type": "code",
   "execution_count": 97,
   "id": "4d086d5f",
   "metadata": {
    "ExecuteTime": {
     "end_time": "2022-04-26T20:17:08.494933Z",
     "start_time": "2022-04-26T20:17:08.478096Z"
    }
   },
   "outputs": [],
   "source": [
    "df['is_used'] = (~df['use_dt'].isna()).astype(int)"
   ]
  },
  {
   "cell_type": "code",
   "execution_count": 98,
   "id": "31267a34",
   "metadata": {
    "ExecuteTime": {
     "end_time": "2022-04-26T20:17:11.800361Z",
     "start_time": "2022-04-26T20:17:11.774268Z"
    }
   },
   "outputs": [
    {
     "data": {
      "text/html": [
       "<div>\n",
       "<style scoped>\n",
       "    .dataframe tbody tr th:only-of-type {\n",
       "        vertical-align: middle;\n",
       "    }\n",
       "\n",
       "    .dataframe tbody tr th {\n",
       "        vertical-align: top;\n",
       "    }\n",
       "\n",
       "    .dataframe thead th {\n",
       "        text-align: right;\n",
       "    }\n",
       "</style>\n",
       "<table border=\"1\" class=\"dataframe\">\n",
       "  <thead>\n",
       "    <tr style=\"text-align: right;\">\n",
       "      <th></th>\n",
       "      <th>used_num</th>\n",
       "      <th>all_num</th>\n",
       "      <th>percentage_of_usage</th>\n",
       "    </tr>\n",
       "    <tr>\n",
       "      <th>card_nm</th>\n",
       "      <th></th>\n",
       "      <th></th>\n",
       "      <th></th>\n",
       "    </tr>\n",
       "  </thead>\n",
       "  <tbody>\n",
       "    <tr>\n",
       "      <th>Alpha</th>\n",
       "      <td>812</td>\n",
       "      <td>3570</td>\n",
       "      <td>0.227451</td>\n",
       "    </tr>\n",
       "    <tr>\n",
       "      <th>Beta</th>\n",
       "      <td>89</td>\n",
       "      <td>1272</td>\n",
       "      <td>0.069969</td>\n",
       "    </tr>\n",
       "    <tr>\n",
       "      <th>Gamma</th>\n",
       "      <td>693</td>\n",
       "      <td>1922</td>\n",
       "      <td>0.360562</td>\n",
       "    </tr>\n",
       "  </tbody>\n",
       "</table>\n",
       "</div>"
      ],
      "text/plain": [
       "         used_num  all_num  percentage_of_usage\n",
       "card_nm                                        \n",
       "Alpha         812     3570             0.227451\n",
       "Beta           89     1272             0.069969\n",
       "Gamma         693     1922             0.360562"
      ]
     },
     "execution_count": 98,
     "metadata": {},
     "output_type": "execute_result"
    }
   ],
   "source": [
    "data1 = df.groupby('card_nm').agg(used_num=('is_used', 'sum'), all_num=('card_nm', 'count'))\n",
    "data1['percentage_of_usage'] = data1['used_num']/data1['all_num']\n",
    "data1"
   ]
  },
  {
   "cell_type": "code",
   "execution_count": 99,
   "id": "60a23057",
   "metadata": {
    "ExecuteTime": {
     "end_time": "2022-04-26T20:17:18.361857Z",
     "start_time": "2022-04-26T20:17:18.254774Z"
    }
   },
   "outputs": [
    {
     "data": {
      "image/png": "[encoded data removed]",
      "text/plain": [
       "<Figure size 432x288 with 1 Axes>"
      ]
     },
     "metadata": {},
     "output_type": "display_data"
    }
   ],
   "source": [
    "plt.bar(data1.index, data1['percentage_of_usage'])\n",
    "\n",
    "for x,y in zip(data1.index, data1['percentage_of_usage']):\n",
    "\n",
    "    label = \"{:.2f}\".format(y)\n",
    "\n",
    "    plt.annotate(label, # this is the text\n",
    "                 (x,y), # these are the coordinates to position the label\n",
    "                 textcoords=\"offset points\", # how to position the text\n",
    "                 xytext=(0,10), # distance from text to points (x,y)\n",
    "                 ha='center') # horizontal alignment can be left, right or center\n",
    "plt.ylim(top=1)\n",
    "plt.show();"
   ]
  },
  {
   "cell_type": "markdown",
   "id": "cc7d80b4",
   "metadata": {},
   "source": [
    "Видно, что лучшая конферсия у Gamma, затем идет Alpha и потом Beta.\n",
    "Рассмотрим только те купоны, которые использовали"
   ]
  },
  {
   "cell_type": "code",
   "execution_count": 100,
   "id": "f470204a",
   "metadata": {
    "ExecuteTime": {
     "end_time": "2022-04-26T20:17:26.551729Z",
     "start_time": "2022-04-26T20:17:26.534733Z"
    }
   },
   "outputs": [],
   "source": [
    "df_used = df[df['is_used']==1].reset_index()\n",
    "df_used['period_use'] = df_used['use_dt']-df_used['receive_dt']"
   ]
  },
  {
   "cell_type": "code",
   "execution_count": 101,
   "id": "767502af",
   "metadata": {
    "ExecuteTime": {
     "end_time": "2022-04-26T20:17:28.349446Z",
     "start_time": "2022-04-26T20:17:28.334446Z"
    }
   },
   "outputs": [
    {
     "data": {
      "text/html": [
       "<div>\n",
       "<style scoped>\n",
       "    .dataframe tbody tr th:only-of-type {\n",
       "        vertical-align: middle;\n",
       "    }\n",
       "\n",
       "    .dataframe tbody tr th {\n",
       "        vertical-align: top;\n",
       "    }\n",
       "\n",
       "    .dataframe thead th {\n",
       "        text-align: right;\n",
       "    }\n",
       "</style>\n",
       "<table border=\"1\" class=\"dataframe\">\n",
       "  <thead>\n",
       "    <tr style=\"text-align: right;\">\n",
       "      <th></th>\n",
       "      <th>index</th>\n",
       "      <th>card_nm</th>\n",
       "      <th>card_id</th>\n",
       "      <th>receive_dt</th>\n",
       "      <th>use_dt</th>\n",
       "      <th>is_used</th>\n",
       "      <th>period_use</th>\n",
       "    </tr>\n",
       "  </thead>\n",
       "  <tbody>\n",
       "    <tr>\n",
       "      <th>0</th>\n",
       "      <td>3</td>\n",
       "      <td>Gamma</td>\n",
       "      <td>7635258</td>\n",
       "      <td>2020-11-02</td>\n",
       "      <td>2020-12-13</td>\n",
       "      <td>1</td>\n",
       "      <td>41 days</td>\n",
       "    </tr>\n",
       "    <tr>\n",
       "      <th>1</th>\n",
       "      <td>15</td>\n",
       "      <td>Alpha</td>\n",
       "      <td>7615628</td>\n",
       "      <td>2020-11-02</td>\n",
       "      <td>2020-11-11</td>\n",
       "      <td>1</td>\n",
       "      <td>9 days</td>\n",
       "    </tr>\n",
       "    <tr>\n",
       "      <th>2</th>\n",
       "      <td>29</td>\n",
       "      <td>Alpha</td>\n",
       "      <td>7597753</td>\n",
       "      <td>2020-11-03</td>\n",
       "      <td>2020-11-05</td>\n",
       "      <td>1</td>\n",
       "      <td>2 days</td>\n",
       "    </tr>\n",
       "    <tr>\n",
       "      <th>3</th>\n",
       "      <td>30</td>\n",
       "      <td>Gamma</td>\n",
       "      <td>7597579</td>\n",
       "      <td>2020-11-03</td>\n",
       "      <td>2020-12-10</td>\n",
       "      <td>1</td>\n",
       "      <td>37 days</td>\n",
       "    </tr>\n",
       "    <tr>\n",
       "      <th>4</th>\n",
       "      <td>31</td>\n",
       "      <td>Alpha</td>\n",
       "      <td>7597009</td>\n",
       "      <td>2020-11-03</td>\n",
       "      <td>2020-11-27</td>\n",
       "      <td>1</td>\n",
       "      <td>24 days</td>\n",
       "    </tr>\n",
       "    <tr>\n",
       "      <th>...</th>\n",
       "      <td>...</td>\n",
       "      <td>...</td>\n",
       "      <td>...</td>\n",
       "      <td>...</td>\n",
       "      <td>...</td>\n",
       "      <td>...</td>\n",
       "      <td>...</td>\n",
       "    </tr>\n",
       "    <tr>\n",
       "      <th>1589</th>\n",
       "      <td>6635</td>\n",
       "      <td>Beta</td>\n",
       "      <td>780967</td>\n",
       "      <td>2021-04-05</td>\n",
       "      <td>2021-04-10</td>\n",
       "      <td>1</td>\n",
       "      <td>5 days</td>\n",
       "    </tr>\n",
       "    <tr>\n",
       "      <th>1590</th>\n",
       "      <td>6652</td>\n",
       "      <td>Beta</td>\n",
       "      <td>755466</td>\n",
       "      <td>2021-04-06</td>\n",
       "      <td>2021-04-10</td>\n",
       "      <td>1</td>\n",
       "      <td>4 days</td>\n",
       "    </tr>\n",
       "    <tr>\n",
       "      <th>1591</th>\n",
       "      <td>6662</td>\n",
       "      <td>Alpha</td>\n",
       "      <td>744894</td>\n",
       "      <td>2021-04-06</td>\n",
       "      <td>2021-04-09</td>\n",
       "      <td>1</td>\n",
       "      <td>3 days</td>\n",
       "    </tr>\n",
       "    <tr>\n",
       "      <th>1592</th>\n",
       "      <td>6698</td>\n",
       "      <td>Alpha</td>\n",
       "      <td>704016</td>\n",
       "      <td>2021-04-07</td>\n",
       "      <td>2021-04-07</td>\n",
       "      <td>1</td>\n",
       "      <td>0 days</td>\n",
       "    </tr>\n",
       "    <tr>\n",
       "      <th>1593</th>\n",
       "      <td>6761</td>\n",
       "      <td>Alpha</td>\n",
       "      <td>628982</td>\n",
       "      <td>2021-04-08</td>\n",
       "      <td>2021-04-10</td>\n",
       "      <td>1</td>\n",
       "      <td>2 days</td>\n",
       "    </tr>\n",
       "  </tbody>\n",
       "</table>\n",
       "<p>1594 rows × 7 columns</p>\n",
       "</div>"
      ],
      "text/plain": [
       "      index card_nm  card_id receive_dt     use_dt  is_used period_use\n",
       "0         3   Gamma  7635258 2020-11-02 2020-12-13        1    41 days\n",
       "1        15   Alpha  7615628 2020-11-02 2020-11-11        1     9 days\n",
       "2        29   Alpha  7597753 2020-11-03 2020-11-05        1     2 days\n",
       "3        30   Gamma  7597579 2020-11-03 2020-12-10        1    37 days\n",
       "4        31   Alpha  7597009 2020-11-03 2020-11-27        1    24 days\n",
       "...     ...     ...      ...        ...        ...      ...        ...\n",
       "1589   6635    Beta   780967 2021-04-05 2021-04-10        1     5 days\n",
       "1590   6652    Beta   755466 2021-04-06 2021-04-10        1     4 days\n",
       "1591   6662   Alpha   744894 2021-04-06 2021-04-09        1     3 days\n",
       "1592   6698   Alpha   704016 2021-04-07 2021-04-07        1     0 days\n",
       "1593   6761   Alpha   628982 2021-04-08 2021-04-10        1     2 days\n",
       "\n",
       "[1594 rows x 7 columns]"
      ]
     },
     "execution_count": 101,
     "metadata": {},
     "output_type": "execute_result"
    }
   ],
   "source": [
    "df_used"
   ]
  },
  {
   "cell_type": "markdown",
   "id": "f89ff7f5",
   "metadata": {},
   "source": [
    "Посмотрим количество дней, за сколько потратили купон. \n",
    "Видно, что Гамма купоны сильно отличаются от остальных. Посмотрим минимальную и максимальную дату погашения."
   ]
  },
  {
   "cell_type": "code",
   "execution_count": 102,
   "id": "46a7cf26",
   "metadata": {
    "ExecuteTime": {
     "end_time": "2022-04-26T20:17:31.451133Z",
     "start_time": "2022-04-26T20:17:31.430135Z"
    }
   },
   "outputs": [
    {
     "data": {
      "text/plain": [
       "card_nm\n",
       "Alpha    13\n",
       "Beta     12\n",
       "Gamma    37\n",
       "Name: period_use, dtype: int64"
      ]
     },
     "execution_count": 102,
     "metadata": {},
     "output_type": "execute_result"
    }
   ],
   "source": [
    "df_used.groupby('card_nm')['period_use'].mean().dt.days"
   ]
  },
  {
   "cell_type": "code",
   "execution_count": 103,
   "id": "5fa8ab01",
   "metadata": {
    "ExecuteTime": {
     "end_time": "2022-04-26T20:19:06.933222Z",
     "start_time": "2022-04-26T20:19:06.918143Z"
    }
   },
   "outputs": [],
   "source": [
    "df_used['use_day']=df_used['period_use'].dt.days"
   ]
  },
  {
   "cell_type": "code",
   "execution_count": 104,
   "id": "9e91d5c2",
   "metadata": {
    "ExecuteTime": {
     "end_time": "2022-04-26T20:19:50.485655Z",
     "start_time": "2022-04-26T20:19:50.462628Z"
    }
   },
   "outputs": [
    {
     "data": {
      "text/html": [
       "<div>\n",
       "<style scoped>\n",
       "    .dataframe tbody tr th:only-of-type {\n",
       "        vertical-align: middle;\n",
       "    }\n",
       "\n",
       "    .dataframe tbody tr th {\n",
       "        vertical-align: top;\n",
       "    }\n",
       "\n",
       "    .dataframe thead th {\n",
       "        text-align: right;\n",
       "    }\n",
       "</style>\n",
       "<table border=\"1\" class=\"dataframe\">\n",
       "  <thead>\n",
       "    <tr style=\"text-align: right;\">\n",
       "      <th></th>\n",
       "      <th>min</th>\n",
       "      <th>max</th>\n",
       "    </tr>\n",
       "    <tr>\n",
       "      <th>card_nm</th>\n",
       "      <th></th>\n",
       "      <th></th>\n",
       "    </tr>\n",
       "  </thead>\n",
       "  <tbody>\n",
       "    <tr>\n",
       "      <th>Alpha</th>\n",
       "      <td>0 days</td>\n",
       "      <td>60 days</td>\n",
       "    </tr>\n",
       "    <tr>\n",
       "      <th>Beta</th>\n",
       "      <td>1 days</td>\n",
       "      <td>60 days</td>\n",
       "    </tr>\n",
       "    <tr>\n",
       "      <th>Gamma</th>\n",
       "      <td>30 days</td>\n",
       "      <td>58 days</td>\n",
       "    </tr>\n",
       "  </tbody>\n",
       "</table>\n",
       "</div>"
      ],
      "text/plain": [
       "            min     max\n",
       "card_nm                \n",
       "Alpha    0 days 60 days\n",
       "Beta     1 days 60 days\n",
       "Gamma   30 days 58 days"
      ]
     },
     "execution_count": 104,
     "metadata": {},
     "output_type": "execute_result"
    }
   ],
   "source": [
    "df_used.groupby('card_nm')['period_use'].agg(['min', max])"
   ]
  },
  {
   "cell_type": "markdown",
   "id": "9404b54f",
   "metadata": {
    "ExecuteTime": {
     "end_time": "2022-04-26T20:20:28.262571Z",
     "start_time": "2022-04-26T20:20:28.246601Z"
    }
   },
   "source": [
    "Можно заметить, что купоны Гамма начинают использовать только спустя 30 дней после покупки."
   ]
  },
  {
   "cell_type": "code",
   "execution_count": 106,
   "id": "36e997d8",
   "metadata": {
    "ExecuteTime": {
     "end_time": "2022-04-26T20:20:32.859691Z",
     "start_time": "2022-04-26T20:20:32.846693Z"
    }
   },
   "outputs": [
    {
     "data": {
      "text/html": [
       "<div>\n",
       "<style scoped>\n",
       "    .dataframe tbody tr th:only-of-type {\n",
       "        vertical-align: middle;\n",
       "    }\n",
       "\n",
       "    .dataframe tbody tr th {\n",
       "        vertical-align: top;\n",
       "    }\n",
       "\n",
       "    .dataframe thead th {\n",
       "        text-align: right;\n",
       "    }\n",
       "</style>\n",
       "<table border=\"1\" class=\"dataframe\">\n",
       "  <thead>\n",
       "    <tr style=\"text-align: right;\">\n",
       "      <th></th>\n",
       "      <th>index</th>\n",
       "      <th>card_nm</th>\n",
       "      <th>card_id</th>\n",
       "      <th>receive_dt</th>\n",
       "      <th>use_dt</th>\n",
       "      <th>is_used</th>\n",
       "      <th>period_use</th>\n",
       "      <th>use_day</th>\n",
       "    </tr>\n",
       "  </thead>\n",
       "  <tbody>\n",
       "    <tr>\n",
       "      <th>0</th>\n",
       "      <td>3</td>\n",
       "      <td>Gamma</td>\n",
       "      <td>7635258</td>\n",
       "      <td>2020-11-02</td>\n",
       "      <td>2020-12-13</td>\n",
       "      <td>1</td>\n",
       "      <td>41 days</td>\n",
       "      <td>41</td>\n",
       "    </tr>\n",
       "    <tr>\n",
       "      <th>1</th>\n",
       "      <td>15</td>\n",
       "      <td>Alpha</td>\n",
       "      <td>7615628</td>\n",
       "      <td>2020-11-02</td>\n",
       "      <td>2020-11-11</td>\n",
       "      <td>1</td>\n",
       "      <td>9 days</td>\n",
       "      <td>9</td>\n",
       "    </tr>\n",
       "    <tr>\n",
       "      <th>2</th>\n",
       "      <td>29</td>\n",
       "      <td>Alpha</td>\n",
       "      <td>7597753</td>\n",
       "      <td>2020-11-03</td>\n",
       "      <td>2020-11-05</td>\n",
       "      <td>1</td>\n",
       "      <td>2 days</td>\n",
       "      <td>2</td>\n",
       "    </tr>\n",
       "    <tr>\n",
       "      <th>3</th>\n",
       "      <td>30</td>\n",
       "      <td>Gamma</td>\n",
       "      <td>7597579</td>\n",
       "      <td>2020-11-03</td>\n",
       "      <td>2020-12-10</td>\n",
       "      <td>1</td>\n",
       "      <td>37 days</td>\n",
       "      <td>37</td>\n",
       "    </tr>\n",
       "    <tr>\n",
       "      <th>4</th>\n",
       "      <td>31</td>\n",
       "      <td>Alpha</td>\n",
       "      <td>7597009</td>\n",
       "      <td>2020-11-03</td>\n",
       "      <td>2020-11-27</td>\n",
       "      <td>1</td>\n",
       "      <td>24 days</td>\n",
       "      <td>24</td>\n",
       "    </tr>\n",
       "    <tr>\n",
       "      <th>...</th>\n",
       "      <td>...</td>\n",
       "      <td>...</td>\n",
       "      <td>...</td>\n",
       "      <td>...</td>\n",
       "      <td>...</td>\n",
       "      <td>...</td>\n",
       "      <td>...</td>\n",
       "      <td>...</td>\n",
       "    </tr>\n",
       "    <tr>\n",
       "      <th>1589</th>\n",
       "      <td>6635</td>\n",
       "      <td>Beta</td>\n",
       "      <td>780967</td>\n",
       "      <td>2021-04-05</td>\n",
       "      <td>2021-04-10</td>\n",
       "      <td>1</td>\n",
       "      <td>5 days</td>\n",
       "      <td>5</td>\n",
       "    </tr>\n",
       "    <tr>\n",
       "      <th>1590</th>\n",
       "      <td>6652</td>\n",
       "      <td>Beta</td>\n",
       "      <td>755466</td>\n",
       "      <td>2021-04-06</td>\n",
       "      <td>2021-04-10</td>\n",
       "      <td>1</td>\n",
       "      <td>4 days</td>\n",
       "      <td>4</td>\n",
       "    </tr>\n",
       "    <tr>\n",
       "      <th>1591</th>\n",
       "      <td>6662</td>\n",
       "      <td>Alpha</td>\n",
       "      <td>744894</td>\n",
       "      <td>2021-04-06</td>\n",
       "      <td>2021-04-09</td>\n",
       "      <td>1</td>\n",
       "      <td>3 days</td>\n",
       "      <td>3</td>\n",
       "    </tr>\n",
       "    <tr>\n",
       "      <th>1592</th>\n",
       "      <td>6698</td>\n",
       "      <td>Alpha</td>\n",
       "      <td>704016</td>\n",
       "      <td>2021-04-07</td>\n",
       "      <td>2021-04-07</td>\n",
       "      <td>1</td>\n",
       "      <td>0 days</td>\n",
       "      <td>0</td>\n",
       "    </tr>\n",
       "    <tr>\n",
       "      <th>1593</th>\n",
       "      <td>6761</td>\n",
       "      <td>Alpha</td>\n",
       "      <td>628982</td>\n",
       "      <td>2021-04-08</td>\n",
       "      <td>2021-04-10</td>\n",
       "      <td>1</td>\n",
       "      <td>2 days</td>\n",
       "      <td>2</td>\n",
       "    </tr>\n",
       "  </tbody>\n",
       "</table>\n",
       "<p>1594 rows × 8 columns</p>\n",
       "</div>"
      ],
      "text/plain": [
       "      index card_nm  card_id receive_dt     use_dt  is_used period_use  \\\n",
       "0         3   Gamma  7635258 2020-11-02 2020-12-13        1    41 days   \n",
       "1        15   Alpha  7615628 2020-11-02 2020-11-11        1     9 days   \n",
       "2        29   Alpha  7597753 2020-11-03 2020-11-05        1     2 days   \n",
       "3        30   Gamma  7597579 2020-11-03 2020-12-10        1    37 days   \n",
       "4        31   Alpha  7597009 2020-11-03 2020-11-27        1    24 days   \n",
       "...     ...     ...      ...        ...        ...      ...        ...   \n",
       "1589   6635    Beta   780967 2021-04-05 2021-04-10        1     5 days   \n",
       "1590   6652    Beta   755466 2021-04-06 2021-04-10        1     4 days   \n",
       "1591   6662   Alpha   744894 2021-04-06 2021-04-09        1     3 days   \n",
       "1592   6698   Alpha   704016 2021-04-07 2021-04-07        1     0 days   \n",
       "1593   6761   Alpha   628982 2021-04-08 2021-04-10        1     2 days   \n",
       "\n",
       "      use_day  \n",
       "0          41  \n",
       "1           9  \n",
       "2           2  \n",
       "3          37  \n",
       "4          24  \n",
       "...       ...  \n",
       "1589        5  \n",
       "1590        4  \n",
       "1591        3  \n",
       "1592        0  \n",
       "1593        2  \n",
       "\n",
       "[1594 rows x 8 columns]"
      ]
     },
     "execution_count": 106,
     "metadata": {},
     "output_type": "execute_result"
    }
   ],
   "source": [
    "df_used"
   ]
  },
  {
   "cell_type": "markdown",
   "id": "03597c96",
   "metadata": {},
   "source": [
    "Посмотрим на график использования купонов разных групп"
   ]
  },
  {
   "cell_type": "code",
   "execution_count": 107,
   "id": "93711323",
   "metadata": {
    "ExecuteTime": {
     "end_time": "2022-04-26T20:21:10.046947Z",
     "start_time": "2022-04-26T20:21:10.037948Z"
    }
   },
   "outputs": [],
   "source": [
    "used_coupons_by_day = df_used.groupby(['card_nm', 'use_day'])['is_used'].count()"
   ]
  },
  {
   "cell_type": "code",
   "execution_count": 108,
   "id": "32e52fd4",
   "metadata": {
    "ExecuteTime": {
     "end_time": "2022-04-26T20:21:18.656848Z",
     "start_time": "2022-04-26T20:21:18.534578Z"
    }
   },
   "outputs": [
    {
     "data": {
      "image/png": "[encoded data removed]",
      "text/plain": [
       "<Figure size 432x288 with 1 Axes>"
      ]
     },
     "metadata": {},
     "output_type": "display_data"
    }
   ],
   "source": [
    "fig = plt.figure()\n",
    "for group in df_used['card_nm'].unique():\n",
    "    plt.plot(used_coupons_by_day.loc[group,], label=group)\n",
    "plt.legend()\n",
    "plt.show();"
   ]
  },
  {
   "cell_type": "markdown",
   "id": "5de19ee5",
   "metadata": {
    "ExecuteTime": {
     "end_time": "2022-04-26T20:22:49.346027Z",
     "start_time": "2022-04-26T20:22:49.336025Z"
    }
   },
   "source": [
    "Видно, что купоны Бета не пользуются большим спросом. Купоны Альфа и Гамма начинают использовать с начала их действия, затем количество использований уменьшается.\n",
    "Рассмотрим также кумулятивную сумму."
   ]
  },
  {
   "cell_type": "code",
   "execution_count": 120,
   "id": "e48b69aa",
   "metadata": {
    "ExecuteTime": {
     "end_time": "2022-04-26T20:38:44.791051Z",
     "start_time": "2022-04-26T20:38:44.654049Z"
    }
   },
   "outputs": [
    {
     "data": {
      "image/png": "[encoded data removed]",
      "text/plain": [
       "<Figure size 432x288 with 1 Axes>"
      ]
     },
     "metadata": {},
     "output_type": "display_data"
    }
   ],
   "source": [
    "fig = plt.figure()\n",
    "for group in df_used['card_nm'].unique():\n",
    "    plt.plot(used_coupons_by_day.loc[group,].cumsum(), label=group)\n",
    "plt.legend()\n",
    "plt.show();"
   ]
  },
  {
   "cell_type": "code",
   "execution_count": 110,
   "id": "af0f9a9f",
   "metadata": {
    "ExecuteTime": {
     "end_time": "2022-04-26T20:23:25.324943Z",
     "start_time": "2022-04-26T20:23:25.302920Z"
    }
   },
   "outputs": [
    {
     "data": {
      "text/html": [
       "<div>\n",
       "<style scoped>\n",
       "    .dataframe tbody tr th:only-of-type {\n",
       "        vertical-align: middle;\n",
       "    }\n",
       "\n",
       "    .dataframe tbody tr th {\n",
       "        vertical-align: top;\n",
       "    }\n",
       "\n",
       "    .dataframe thead th {\n",
       "        text-align: right;\n",
       "    }\n",
       "</style>\n",
       "<table border=\"1\" class=\"dataframe\">\n",
       "  <thead>\n",
       "    <tr style=\"text-align: right;\">\n",
       "      <th></th>\n",
       "      <th>count</th>\n",
       "    </tr>\n",
       "    <tr>\n",
       "      <th>card_nm</th>\n",
       "      <th></th>\n",
       "    </tr>\n",
       "  </thead>\n",
       "  <tbody>\n",
       "    <tr>\n",
       "      <th>Alpha</th>\n",
       "      <td>812</td>\n",
       "    </tr>\n",
       "    <tr>\n",
       "      <th>Beta</th>\n",
       "      <td>89</td>\n",
       "    </tr>\n",
       "    <tr>\n",
       "      <th>Gamma</th>\n",
       "      <td>693</td>\n",
       "    </tr>\n",
       "  </tbody>\n",
       "</table>\n",
       "</div>"
      ],
      "text/plain": [
       "         count\n",
       "card_nm       \n",
       "Alpha      812\n",
       "Beta        89\n",
       "Gamma      693"
      ]
     },
     "execution_count": 110,
     "metadata": {},
     "output_type": "execute_result"
    }
   ],
   "source": [
    "df_used.groupby('card_nm')['card_nm'].agg(['count'])"
   ]
  },
  {
   "cell_type": "code",
   "execution_count": 121,
   "id": "feae928e",
   "metadata": {
    "ExecuteTime": {
     "end_time": "2022-04-26T20:40:36.841194Z",
     "start_time": "2022-04-26T20:40:36.830193Z"
    }
   },
   "outputs": [
    {
     "data": {
      "text/plain": [
       "card_nm  use_day\n",
       "Alpha    0           3\n",
       "         1          18\n",
       "         2          41\n",
       "         3          56\n",
       "         4          59\n",
       "                    ..\n",
       "Gamma    54          4\n",
       "         55          3\n",
       "         56          3\n",
       "         57          4\n",
       "         58          4\n",
       "Name: is_used, Length: 117, dtype: int64"
      ]
     },
     "execution_count": 121,
     "metadata": {},
     "output_type": "execute_result"
    }
   ],
   "source": [
    "used_coupons_by_day"
   ]
  }
 ],
 "metadata": {
  "kernelspec": {
   "display_name": "Python 3 (ipykernel)",
   "language": "python",
   "name": "python3"
  },
  "language_info": {
   "codemirror_mode": {
    "name": "ipython",
    "version": 3
   },
   "file_extension": ".py",
   "mimetype": "text/x-python",
   "name": "python",
   "nbconvert_exporter": "python",
   "pygments_lexer": "ipython3",
   "version": "3.10.2"
  },
  "toc": {
   "base_numbering": 1,
   "nav_menu": {},
   "number_sections": true,
   "sideBar": true,
   "skip_h1_title": false,
   "title_cell": "Table of Contents",
   "title_sidebar": "Contents",
   "toc_cell": false,
   "toc_position": {},
   "toc_section_display": true,
   "toc_window_display": false
  },
  "varInspector": {
   "cols": {
    "lenName": 16,
    "lenType": 16,
    "lenVar": 40
   },
   "kernels_config": {
    "python": {
     "delete_cmd_postfix": "",
     "delete_cmd_prefix": "del ",
     "library": "var_list.py",
     "varRefreshCmd": "print(var_dic_list())"
    },
    "r": {
     "delete_cmd_postfix": ") ",
     "delete_cmd_prefix": "rm(",
     "library": "var_list.r",
     "varRefreshCmd": "cat(var_dic_list()) "
    }
   },
   "types_to_exclude": [
    "module",
    "function",
    "builtin_function_or_method",
    "instance",
    "_Feature"
   ],
   "window_display": false
  }
 },
 "nbformat": 4,
 "nbformat_minor": 5
}
