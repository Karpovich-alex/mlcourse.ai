{
 "cells": [
  {
   "cell_type": "markdown",
   "id": "f6a1f228",
   "metadata": {},
   "source": [
    "# Лекция 5"
   ]
  },
  {
   "cell_type": "markdown",
   "id": "95c555d0",
   "metadata": {},
   "source": [
    "Взяли выборку, поделили примерно пополам. На тестовой группе предлагаем клиенту скидку в 20%. Гипотеза заключается в том, что скидка увеличивает конверсию в продажу.\n",
    "\n",
    "Результаты получились следующими:\n",
    "\n",
    "Контроль: из 16500 наблюдений 1599 покупок\n",
    "\n",
    "Тест: из 15903 наблюдений 1580 покупок\n",
    "\n",
    "Мы уверены, что конверсия на тесте должна быть не хуже контроля и ожидаем уровень значимости alpha=0.05"
   ]
  },
  {
   "cell_type": "code",
   "execution_count": 25,
   "id": "9c0a6763",
   "metadata": {},
   "outputs": [],
   "source": [
    "import numpy as np\n",
    "import matplotlib.pyplot as plt\n",
    "import pandas as pd\n",
    "from statsmodels.graphics.gofplots import qqplot\n",
    "from scipy.stats import kstest, fligner, shapiro, mannwhitneyu, norm\n",
    "from statsmodels.stats.weightstats import _tconfint_generic\n",
    "\n",
    "%matplotlib inline"
   ]
  },
  {
   "cell_type": "code",
   "execution_count": 3,
   "id": "a956b448",
   "metadata": {},
   "outputs": [],
   "source": [
    "n1 = 16500\n",
    "a = 1599\n",
    "n2 = 15903\n",
    "b = 1580\n",
    "p1 = a/n1\n",
    "p2 = b/n2\n",
    "P = (p1*n1+p2*n2)/(n1+n2)\n",
    "Z = (p1 - p2)/np.sqrt(P*(1-P)*(1/n1+1/n2))"
   ]
  },
  {
   "cell_type": "code",
   "execution_count": 4,
   "id": "d16504de",
   "metadata": {},
   "outputs": [
    {
     "data": {
      "text/plain": [
       "-0.7391350963987632"
      ]
     },
     "execution_count": 4,
     "metadata": {},
     "output_type": "execute_result"
    }
   ],
   "source": [
    "Z"
   ]
  },
  {
   "cell_type": "code",
   "execution_count": 8,
   "id": "d478fce8",
   "metadata": {},
   "outputs": [
    {
     "data": {
      "text/plain": [
       "0.22991248360663058"
      ]
     },
     "execution_count": 8,
     "metadata": {},
     "output_type": "execute_result"
    }
   ],
   "source": [
    "norm.sf(abs(Z))"
   ]
  },
  {
   "cell_type": "markdown",
   "id": "3af66748",
   "metadata": {},
   "source": [
    "Тот же сайт, но теперь тестируем следующее:\n",
    "\n",
    "в группе B (тест) предлагаем покупателям дополнительно добавить в корзину еще один товар по скидке\n",
    "контрольной группе А ничего не предлагаем.\n",
    "\n",
    "Результаты теста лежат в приложенном файле. В первой колонке флаг тестовой группы, во второй - сумма всех покупок посетителя.\n",
    "\n",
    "Требуется определить, есть ли **статзначимое различие в распределениях на тесте и контроле** с уровнем значимости alpha=0.05"
   ]
  },
  {
   "cell_type": "code",
   "execution_count": 10,
   "id": "03c63048",
   "metadata": {},
   "outputs": [],
   "source": [
    "df = pd.read_excel(\"5_3_data.xlsx\")"
   ]
  },
  {
   "cell_type": "code",
   "execution_count": 11,
   "id": "dc3efb99",
   "metadata": {},
   "outputs": [],
   "source": [
    "df.columns = ['group', 'purchase']\n",
    "df.group.replace({'А': 'A', 'В':'B'}, inplace=True)"
   ]
  },
  {
   "cell_type": "code",
   "execution_count": 12,
   "id": "3680fe6b",
   "metadata": {},
   "outputs": [
    {
     "data": {
      "text/html": [
       "<div>\n",
       "<style scoped>\n",
       "    .dataframe tbody tr th:only-of-type {\n",
       "        vertical-align: middle;\n",
       "    }\n",
       "\n",
       "    .dataframe tbody tr th {\n",
       "        vertical-align: top;\n",
       "    }\n",
       "\n",
       "    .dataframe thead th {\n",
       "        text-align: right;\n",
       "    }\n",
       "</style>\n",
       "<table border=\"1\" class=\"dataframe\">\n",
       "  <thead>\n",
       "    <tr style=\"text-align: right;\">\n",
       "      <th></th>\n",
       "      <th>group</th>\n",
       "      <th>purchase</th>\n",
       "    </tr>\n",
       "  </thead>\n",
       "  <tbody>\n",
       "    <tr>\n",
       "      <th>0</th>\n",
       "      <td>A</td>\n",
       "      <td>1499</td>\n",
       "    </tr>\n",
       "    <tr>\n",
       "      <th>1</th>\n",
       "      <td>A</td>\n",
       "      <td>1499</td>\n",
       "    </tr>\n",
       "    <tr>\n",
       "      <th>2</th>\n",
       "      <td>A</td>\n",
       "      <td>1099</td>\n",
       "    </tr>\n",
       "    <tr>\n",
       "      <th>3</th>\n",
       "      <td>A</td>\n",
       "      <td>1099</td>\n",
       "    </tr>\n",
       "    <tr>\n",
       "      <th>4</th>\n",
       "      <td>A</td>\n",
       "      <td>109</td>\n",
       "    </tr>\n",
       "  </tbody>\n",
       "</table>\n",
       "</div>"
      ],
      "text/plain": [
       "  group  purchase\n",
       "0     A      1499\n",
       "1     A      1499\n",
       "2     A      1099\n",
       "3     A      1099\n",
       "4     A       109"
      ]
     },
     "execution_count": 12,
     "metadata": {},
     "output_type": "execute_result"
    }
   ],
   "source": [
    "df.head()"
   ]
  },
  {
   "cell_type": "code",
   "execution_count": 14,
   "id": "b9dc1421",
   "metadata": {},
   "outputs": [
    {
     "data": {
      "image/png": "[encoded data removed]",
      "text/plain": [
       "<Figure size 432x288 with 1 Axes>"
      ]
     },
     "metadata": {
      "needs_background": "light"
     },
     "output_type": "display_data"
    }
   ],
   "source": [
    "qqplot(df[df.group == 'A']['purchase'], line='s')\n",
    "plt.show()"
   ]
  },
  {
   "cell_type": "code",
   "execution_count": 15,
   "id": "b11e9860",
   "metadata": {},
   "outputs": [
    {
     "data": {
      "image/png": "[encoded data removed]",
      "text/plain": [
       "<Figure size 432x288 with 1 Axes>"
      ]
     },
     "metadata": {
      "needs_background": "light"
     },
     "output_type": "display_data"
    }
   ],
   "source": [
    "qqplot(df[df.group == 'B']['purchase'], line='s')\n",
    "plt.show()"
   ]
  },
  {
   "cell_type": "code",
   "execution_count": 16,
   "id": "1e8a0ff6",
   "metadata": {},
   "outputs": [
    {
     "name": "stdout",
     "output_type": "stream",
     "text": [
      "Statistics=0.776, p=0.000\n"
     ]
    }
   ],
   "source": [
    "stat, p = shapiro(df[df.group == 'A']['purchase'])\n",
    "print('Statistics=%.3f, p=%.3f' % (stat, p))"
   ]
  },
  {
   "cell_type": "code",
   "execution_count": 17,
   "id": "5a646973",
   "metadata": {},
   "outputs": [
    {
     "name": "stdout",
     "output_type": "stream",
     "text": [
      "Statistics=0.806, p=0.000\n"
     ]
    }
   ],
   "source": [
    "stat, p = shapiro(df[df.group == 'B']['purchase'])\n",
    "print('Statistics=%.3f, p=%.3f' % (stat, p))"
   ]
  },
  {
   "cell_type": "code",
   "execution_count": 21,
   "id": "19f679ac",
   "metadata": {},
   "outputs": [
    {
     "data": {
      "text/plain": [
       "KstestResult(statistic=1.0, pvalue=0.0)"
      ]
     },
     "execution_count": 21,
     "metadata": {},
     "output_type": "execute_result"
    }
   ],
   "source": [
    "kstest(df[df.group == 'A']['purchase'], 'norm')"
   ]
  },
  {
   "cell_type": "code",
   "execution_count": 24,
   "id": "89d43bfc",
   "metadata": {},
   "outputs": [
    {
     "data": {
      "text/plain": [
       "KstestResult(statistic=0.9821428571428571, pvalue=2.5263905216950436e-98)"
      ]
     },
     "execution_count": 24,
     "metadata": {},
     "output_type": "execute_result"
    }
   ],
   "source": [
    "kstest(df[df.group == 'B']['purchase'], 'norm')"
   ]
  },
  {
   "cell_type": "markdown",
   "id": "92cc7ba2",
   "metadata": {},
   "source": [
    "Выборки не имеют нормальное распределение."
   ]
  },
  {
   "cell_type": "code",
   "execution_count": 20,
   "id": "649621c4",
   "metadata": {},
   "outputs": [
    {
     "data": {
      "image/png": "[encoded data removed]",
      "text/plain": [
       "<Figure size 432x288 with 2 Axes>"
      ]
     },
     "metadata": {
      "needs_background": "light"
     },
     "output_type": "display_data"
    }
   ],
   "source": [
    "plt.subplot(1,2,1)\n",
    "plt.hist(df[df.group == 'A']['purchase'][df[df.group == 'A']['purchase'] < df[df.group == 'A']['purchase'].quantile(0.99)],\n",
    "           bins = 15,\n",
    "           color = 'b',\n",
    "           alpha = 0.9,\n",
    "           label = 'A')\n",
    "plt.legend()\n",
    "plt.subplot(1,2,2)\n",
    "plt.hist(df[df.group == 'B']['purchase'][df[df.group == 'B']['purchase'] < df[df.group == 'B']['purchase'].quantile(0.99)],\n",
    "           bins = 15,\n",
    "           color = 'g',\n",
    "           alpha = 0.9,\n",
    "           label = 'B')\n",
    "plt.legend()\n",
    "plt.show()"
   ]
  },
  {
   "cell_type": "code",
   "execution_count": 22,
   "id": "cf027d4a",
   "metadata": {},
   "outputs": [
    {
     "data": {
      "text/plain": [
       "FlignerResult(statistic=0.0168346974159353, pvalue=0.8967653357341644)"
      ]
     },
     "execution_count": 22,
     "metadata": {},
     "output_type": "execute_result"
    }
   ],
   "source": [
    "fligner(df[df.group == 'A']['purchase'], df[df.group == 'B']['purchase'])"
   ]
  },
  {
   "cell_type": "markdown",
   "id": "2c08a8a4",
   "metadata": {},
   "source": [
    "Гипотезу об одинаковых дисперсиях не отвергаем"
   ]
  },
  {
   "cell_type": "code",
   "execution_count": 23,
   "id": "288f9590",
   "metadata": {},
   "outputs": [
    {
     "name": "stdout",
     "output_type": "stream",
     "text": [
      "Statistics=1317.500, p=0.721\n"
     ]
    }
   ],
   "source": [
    "stat, p = mannwhitneyu(df[df.group == 'A']['purchase'], df[df.group == 'B']['purchase'])\n",
    "print('Statistics=%.3f, p=%.3f' % (stat, p))"
   ]
  },
  {
   "cell_type": "markdown",
   "id": "afd1014c",
   "metadata": {},
   "source": [
    "Центры (медианы) 2х выборок совпадают"
   ]
  },
  {
   "cell_type": "code",
   "execution_count": 26,
   "id": "bf66c935",
   "metadata": {},
   "outputs": [
    {
     "name": "stdout",
     "output_type": "stream",
     "text": [
      "A 95% confidence interval: [610.84 - 1,171.65]\n",
      "B 95% confidence interval: [632.41 - 1,129.94]\n"
     ]
    }
   ],
   "source": [
    "monthly_income_conf_int = _tconfint_generic(df[df.group == 'A']['purchase'].mean(),\n",
    "                                            df[df.group == 'A']['purchase'].std(ddof=1)/np.sqrt(len(df[df.group == 'A'])),\n",
    "                                            len(df[df.group == 'A']) - 1,\n",
    "                                            0.05,\n",
    "                                            'two-sided')\n",
    "required_conf_int = _tconfint_generic(df[df.group == 'B']['purchase'].mean(),\n",
    "                                            df[df.group == 'B']['purchase'].std(ddof=1)/np.sqrt(len(df[df.group == 'B'])),\n",
    "                                            len(df[df.group == 'B']) - 1,\n",
    "                                            0.05,\n",
    "                                            'two-sided')\n",
    "\n",
    "print(f'A 95% confidence interval: [{monthly_income_conf_int[0]:,.2f} - {monthly_income_conf_int[1]:,.2f}]')\n",
    "print(f'B 95% confidence interval: [{required_conf_int[0]:,.2f} - {required_conf_int[1]:,.2f}]')"
   ]
  },
  {
   "cell_type": "markdown",
   "id": "ec0a4d5c",
   "metadata": {},
   "source": [
    "Доверительные интервалы также пересекаются"
   ]
  }
 ],
 "metadata": {
  "kernelspec": {
   "display_name": "Python 3 (ipykernel)",
   "language": "python",
   "name": "python3"
  },
  "language_info": {
   "codemirror_mode": {
    "name": "ipython",
    "version": 3
   },
   "file_extension": ".py",
   "mimetype": "text/x-python",
   "name": "python",
   "nbconvert_exporter": "python",
   "pygments_lexer": "ipython3",
   "version": "3.10.2"
  }
 },
 "nbformat": 4,
 "nbformat_minor": 5
}
