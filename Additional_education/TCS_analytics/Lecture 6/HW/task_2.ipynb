{
 "cells": [
  {
   "cell_type": "markdown",
   "id": "9f62763b",
   "metadata": {},
   "source": [
    "В файле test_2 лежит результат теста, который был нацелен на увеличение суммы чека клиента. \n",
    "\n",
    "Изучите результаты теста и сделайте вывод, увеличилась сумма чека или нет. В качестве решения - ноутбук, в котором построено распределение параметра в группах и проверены нужные критерии."
   ]
  },
  {
   "cell_type": "code",
   "execution_count": 2,
   "id": "5f0816d7",
   "metadata": {},
   "outputs": [],
   "source": [
    "import pandas as pd\n",
    "import numpy as np\n",
    "import matplotlib.pyplot as plt\n",
    "import scipy.stats as stats"
   ]
  },
  {
   "cell_type": "code",
   "execution_count": 7,
   "id": "1a622900",
   "metadata": {},
   "outputs": [],
   "source": [
    "df = pd.read_csv(\"test_2.csv\")"
   ]
  },
  {
   "cell_type": "code",
   "execution_count": 8,
   "id": "24902b0a",
   "metadata": {
    "scrolled": false
   },
   "outputs": [
    {
     "data": {
      "text/html": [
       "<div>\n",
       "<style scoped>\n",
       "    .dataframe tbody tr th:only-of-type {\n",
       "        vertical-align: middle;\n",
       "    }\n",
       "\n",
       "    .dataframe tbody tr th {\n",
       "        vertical-align: top;\n",
       "    }\n",
       "\n",
       "    .dataframe thead th {\n",
       "        text-align: right;\n",
       "    }\n",
       "</style>\n",
       "<table border=\"1\" class=\"dataframe\">\n",
       "  <thead>\n",
       "    <tr style=\"text-align: right;\">\n",
       "      <th></th>\n",
       "      <th>group</th>\n",
       "      <th>client_id</th>\n",
       "      <th>avg_sum</th>\n",
       "    </tr>\n",
       "  </thead>\n",
       "  <tbody>\n",
       "    <tr>\n",
       "      <th>0</th>\n",
       "      <td>test</td>\n",
       "      <td>1</td>\n",
       "      <td>156.686451</td>\n",
       "    </tr>\n",
       "    <tr>\n",
       "      <th>1</th>\n",
       "      <td>test</td>\n",
       "      <td>2</td>\n",
       "      <td>342.625859</td>\n",
       "    </tr>\n",
       "    <tr>\n",
       "      <th>2</th>\n",
       "      <td>test</td>\n",
       "      <td>3</td>\n",
       "      <td>79.712120</td>\n",
       "    </tr>\n",
       "    <tr>\n",
       "      <th>3</th>\n",
       "      <td>test</td>\n",
       "      <td>4</td>\n",
       "      <td>493.110807</td>\n",
       "    </tr>\n",
       "    <tr>\n",
       "      <th>4</th>\n",
       "      <td>test</td>\n",
       "      <td>5</td>\n",
       "      <td>124.135016</td>\n",
       "    </tr>\n",
       "    <tr>\n",
       "      <th>...</th>\n",
       "      <td>...</td>\n",
       "      <td>...</td>\n",
       "      <td>...</td>\n",
       "    </tr>\n",
       "    <tr>\n",
       "      <th>595</th>\n",
       "      <td>control</td>\n",
       "      <td>596</td>\n",
       "      <td>209.075972</td>\n",
       "    </tr>\n",
       "    <tr>\n",
       "      <th>596</th>\n",
       "      <td>control</td>\n",
       "      <td>597</td>\n",
       "      <td>57.990291</td>\n",
       "    </tr>\n",
       "    <tr>\n",
       "      <th>597</th>\n",
       "      <td>control</td>\n",
       "      <td>598</td>\n",
       "      <td>42.577037</td>\n",
       "    </tr>\n",
       "    <tr>\n",
       "      <th>598</th>\n",
       "      <td>control</td>\n",
       "      <td>599</td>\n",
       "      <td>178.320097</td>\n",
       "    </tr>\n",
       "    <tr>\n",
       "      <th>599</th>\n",
       "      <td>control</td>\n",
       "      <td>600</td>\n",
       "      <td>78.746824</td>\n",
       "    </tr>\n",
       "  </tbody>\n",
       "</table>\n",
       "<p>600 rows × 3 columns</p>\n",
       "</div>"
      ],
      "text/plain": [
       "       group  client_id     avg_sum\n",
       "0       test          1  156.686451\n",
       "1       test          2  342.625859\n",
       "2       test          3   79.712120\n",
       "3       test          4  493.110807\n",
       "4       test          5  124.135016\n",
       "..       ...        ...         ...\n",
       "595  control        596  209.075972\n",
       "596  control        597   57.990291\n",
       "597  control        598   42.577037\n",
       "598  control        599  178.320097\n",
       "599  control        600   78.746824\n",
       "\n",
       "[600 rows x 3 columns]"
      ]
     },
     "execution_count": 8,
     "metadata": {},
     "output_type": "execute_result"
    }
   ],
   "source": [
    "df"
   ]
  },
  {
   "cell_type": "code",
   "execution_count": 10,
   "id": "b195196a",
   "metadata": {},
   "outputs": [
    {
     "name": "stdout",
     "output_type": "stream",
     "text": [
      "Not normal W= 0.8082 p-value 0.0\n",
      "Not normal W= 0.8395 p-value 0.0\n"
     ]
    }
   ],
   "source": [
    "groups = df['group'].unique()\n",
    "for group in groups:\n",
    "    W_value, p_value = stats.shapiro(df[df['group']==group]['avg_sum'])\n",
    "    if p_value > 0.01:\n",
    "        print('Normal','W=',round(W_value,4),'p-value',round(p_value,4))\n",
    "    else:\n",
    "        print('Not normal','W=',round(W_value,4),'p-value',round(p_value,4))"
   ]
  },
  {
   "cell_type": "markdown",
   "id": "1879e51b",
   "metadata": {},
   "source": [
    "Как видно, наши данные не имеют нормального распределения.\n",
    "Так как у нас нет нормального распределения, то для выявления статистической значимости возьмем критерий Манна-Уитни.\n",
    "Он выявляет статистическую значимость различия медиан"
   ]
  },
  {
   "cell_type": "code",
   "execution_count": 11,
   "id": "56a419eb",
   "metadata": {},
   "outputs": [],
   "source": [
    "a, b = df[df['group']=='test']['avg_sum'], df[df['group']=='control']['avg_sum']"
   ]
  },
  {
   "cell_type": "code",
   "execution_count": 12,
   "id": "3449bbb8",
   "metadata": {},
   "outputs": [
    {
     "name": "stdout",
     "output_type": "stream",
     "text": [
      "Разница статистически значима \n",
      "p-value 0.005 \n",
      "U-критерий 50943.0\n"
     ]
    }
   ],
   "source": [
    "stat, p_val = stats.mannwhitneyu(a,b,alternative = 'two-sided')\n",
    "if p_val > 0.05:\n",
    "    print('Статистически значимой разницы нет','\\np-value',round(p_val,4),'\\nU-критерий',stat)\n",
    "else:\n",
    "    print('Разница статистически значима','\\np-value',round(p_val,4),'\\nU-критерий',stat)"
   ]
  },
  {
   "cell_type": "code",
   "execution_count": 15,
   "id": "77660d7a",
   "metadata": {},
   "outputs": [
    {
     "name": "stdout",
     "output_type": "stream",
     "text": [
      "Медиана для test = 132.65585525843812\n",
      "Медиана для control = 104.72763550398426\n"
     ]
    }
   ],
   "source": [
    "for group in groups:\n",
    "    print(\"Медиана для\",group,\"=\",df[df['group']==group]['avg_sum'].median())"
   ]
  },
  {
   "cell_type": "markdown",
   "id": "93bedcc0",
   "metadata": {},
   "source": [
    "Изменение значения медианы статистически значимо. Для тестовой выборки значение медианы увеличилось."
   ]
  }
 ],
 "metadata": {
  "kernelspec": {
   "display_name": "Python 3 (ipykernel)",
   "language": "python",
   "name": "python3"
  },
  "language_info": {
   "codemirror_mode": {
    "name": "ipython",
    "version": 3
   },
   "file_extension": ".py",
   "mimetype": "text/x-python",
   "name": "python",
   "nbconvert_exporter": "python",
   "pygments_lexer": "ipython3",
   "version": "3.10.2"
  }
 },
 "nbformat": 4,
 "nbformat_minor": 5
}
