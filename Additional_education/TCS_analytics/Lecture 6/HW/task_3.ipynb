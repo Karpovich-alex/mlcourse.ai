{
 "cells": [
  {
   "cell_type": "markdown",
   "id": "5d8adeae",
   "metadata": {},
   "source": [
    "В файле test_3 лежит результат теста рассылки email, целевая метрика - конверсия в переход на сайт с этого email. \n",
    "\n",
    "Изучите результаты теста и сделайте вывод , увеличилась конверсия или нет. В качестве решения - ноутбук, в котором построено распределение параметра в группах и проверены нужные критерии."
   ]
  },
  {
   "cell_type": "code",
   "execution_count": 2,
   "id": "30163ab5",
   "metadata": {},
   "outputs": [],
   "source": [
    "import pandas as pd\n",
    "import numpy as np\n",
    "import matplotlib.pyplot as plt\n",
    "import scipy.stats as stats"
   ]
  },
  {
   "cell_type": "code",
   "execution_count": 3,
   "id": "a363db52",
   "metadata": {},
   "outputs": [],
   "source": [
    "df = pd.read_csv(\"test_3.csv\")"
   ]
  },
  {
   "cell_type": "code",
   "execution_count": 4,
   "id": "c4cc6a4f",
   "metadata": {
    "scrolled": false
   },
   "outputs": [
    {
     "data": {
      "text/html": [
       "<div>\n",
       "<style scoped>\n",
       "    .dataframe tbody tr th:only-of-type {\n",
       "        vertical-align: middle;\n",
       "    }\n",
       "\n",
       "    .dataframe tbody tr th {\n",
       "        vertical-align: top;\n",
       "    }\n",
       "\n",
       "    .dataframe thead th {\n",
       "        text-align: right;\n",
       "    }\n",
       "</style>\n",
       "<table border=\"1\" class=\"dataframe\">\n",
       "  <thead>\n",
       "    <tr style=\"text-align: right;\">\n",
       "      <th></th>\n",
       "      <th>group</th>\n",
       "      <th>client_id</th>\n",
       "      <th>click_flg</th>\n",
       "    </tr>\n",
       "  </thead>\n",
       "  <tbody>\n",
       "    <tr>\n",
       "      <th>0</th>\n",
       "      <td>test</td>\n",
       "      <td>1</td>\n",
       "      <td>1</td>\n",
       "    </tr>\n",
       "    <tr>\n",
       "      <th>1</th>\n",
       "      <td>test</td>\n",
       "      <td>2</td>\n",
       "      <td>0</td>\n",
       "    </tr>\n",
       "    <tr>\n",
       "      <th>2</th>\n",
       "      <td>test</td>\n",
       "      <td>3</td>\n",
       "      <td>0</td>\n",
       "    </tr>\n",
       "    <tr>\n",
       "      <th>3</th>\n",
       "      <td>test</td>\n",
       "      <td>4</td>\n",
       "      <td>1</td>\n",
       "    </tr>\n",
       "    <tr>\n",
       "      <th>4</th>\n",
       "      <td>test</td>\n",
       "      <td>5</td>\n",
       "      <td>1</td>\n",
       "    </tr>\n",
       "    <tr>\n",
       "      <th>...</th>\n",
       "      <td>...</td>\n",
       "      <td>...</td>\n",
       "      <td>...</td>\n",
       "    </tr>\n",
       "    <tr>\n",
       "      <th>20028</th>\n",
       "      <td>control</td>\n",
       "      <td>20029</td>\n",
       "      <td>0</td>\n",
       "    </tr>\n",
       "    <tr>\n",
       "      <th>20029</th>\n",
       "      <td>control</td>\n",
       "      <td>20030</td>\n",
       "      <td>1</td>\n",
       "    </tr>\n",
       "    <tr>\n",
       "      <th>20030</th>\n",
       "      <td>control</td>\n",
       "      <td>20031</td>\n",
       "      <td>1</td>\n",
       "    </tr>\n",
       "    <tr>\n",
       "      <th>20031</th>\n",
       "      <td>control</td>\n",
       "      <td>20032</td>\n",
       "      <td>0</td>\n",
       "    </tr>\n",
       "    <tr>\n",
       "      <th>20032</th>\n",
       "      <td>control</td>\n",
       "      <td>20033</td>\n",
       "      <td>0</td>\n",
       "    </tr>\n",
       "  </tbody>\n",
       "</table>\n",
       "<p>20033 rows × 3 columns</p>\n",
       "</div>"
      ],
      "text/plain": [
       "         group  client_id  click_flg\n",
       "0         test          1          1\n",
       "1         test          2          0\n",
       "2         test          3          0\n",
       "3         test          4          1\n",
       "4         test          5          1\n",
       "...        ...        ...        ...\n",
       "20028  control      20029          0\n",
       "20029  control      20030          1\n",
       "20030  control      20031          1\n",
       "20031  control      20032          0\n",
       "20032  control      20033          0\n",
       "\n",
       "[20033 rows x 3 columns]"
      ]
     },
     "execution_count": 4,
     "metadata": {},
     "output_type": "execute_result"
    }
   ],
   "source": [
    "df"
   ]
  },
  {
   "cell_type": "markdown",
   "id": "963b3b41",
   "metadata": {},
   "source": [
    "Составим таблицу сопряженности"
   ]
  },
  {
   "cell_type": "code",
   "execution_count": 11,
   "id": "90993808",
   "metadata": {},
   "outputs": [
    {
     "data": {
      "text/html": [
       "<div>\n",
       "<style scoped>\n",
       "    .dataframe tbody tr th:only-of-type {\n",
       "        vertical-align: middle;\n",
       "    }\n",
       "\n",
       "    .dataframe tbody tr th {\n",
       "        vertical-align: top;\n",
       "    }\n",
       "\n",
       "    .dataframe thead th {\n",
       "        text-align: right;\n",
       "    }\n",
       "</style>\n",
       "<table border=\"1\" class=\"dataframe\">\n",
       "  <thead>\n",
       "    <tr style=\"text-align: right;\">\n",
       "      <th>click_flg</th>\n",
       "      <th>0</th>\n",
       "      <th>1</th>\n",
       "      <th>All</th>\n",
       "    </tr>\n",
       "    <tr>\n",
       "      <th>group</th>\n",
       "      <th></th>\n",
       "      <th></th>\n",
       "      <th></th>\n",
       "    </tr>\n",
       "  </thead>\n",
       "  <tbody>\n",
       "    <tr>\n",
       "      <th>control</th>\n",
       "      <td>6883</td>\n",
       "      <td>3127</td>\n",
       "      <td>10010</td>\n",
       "    </tr>\n",
       "    <tr>\n",
       "      <th>test</th>\n",
       "      <td>7061</td>\n",
       "      <td>2962</td>\n",
       "      <td>10023</td>\n",
       "    </tr>\n",
       "    <tr>\n",
       "      <th>All</th>\n",
       "      <td>13944</td>\n",
       "      <td>6089</td>\n",
       "      <td>20033</td>\n",
       "    </tr>\n",
       "  </tbody>\n",
       "</table>\n",
       "</div>"
      ],
      "text/plain": [
       "click_flg      0     1    All\n",
       "group                        \n",
       "control     6883  3127  10010\n",
       "test        7061  2962  10023\n",
       "All        13944  6089  20033"
      ]
     },
     "execution_count": 11,
     "metadata": {},
     "output_type": "execute_result"
    }
   ],
   "source": [
    "table = pd.crosstab(\n",
    "    df['group'],\n",
    "    df['click_flg'],\n",
    "    margins = True\n",
    ")\n",
    "table1 = pd.crosstab(\n",
    "    df['group'],\n",
    "    df['click_flg']\n",
    ")\n",
    "table"
   ]
  },
  {
   "cell_type": "code",
   "execution_count": 12,
   "id": "a1331ee3",
   "metadata": {},
   "outputs": [
    {
     "data": {
      "text/plain": [
       "(6.65548520025077,\n",
       " 0.009885105063293764,\n",
       " 1,\n",
       " array([[6967.47566515, 3042.52433485],\n",
       "        [6976.52433485, 3046.47566515]]))"
      ]
     },
     "execution_count": 12,
     "metadata": {},
     "output_type": "execute_result"
    }
   ],
   "source": [
    "stats.chi2_contingency(table1)\n",
    "# Статистика теста, p_value, Степени свободы, Ожидаемые частоты, основанные на предельных суммах таблицы."
   ]
  },
  {
   "cell_type": "markdown",
   "id": "1f835fa6",
   "metadata": {},
   "source": [
    "p_value<a => Гипотезу об отсутствии стат. значимости отвергаем.\n",
    "Найдем сумму кликов и конверсию для каждой группы."
   ]
  },
  {
   "cell_type": "code",
   "execution_count": 5,
   "id": "88e954a0",
   "metadata": {},
   "outputs": [
    {
     "data": {
      "text/plain": [
       "group\n",
       "control    3127\n",
       "test       2962\n",
       "Name: click_flg, dtype: int64"
      ]
     },
     "execution_count": 5,
     "metadata": {},
     "output_type": "execute_result"
    }
   ],
   "source": [
    "df.groupby('group').sum()['click_flg']"
   ]
  },
  {
   "cell_type": "code",
   "execution_count": 15,
   "id": "f0a6cce6",
   "metadata": {},
   "outputs": [
    {
     "data": {
      "text/plain": [
       "group\n",
       "control    0.312388\n",
       "test       0.295520\n",
       "Name: click_flg, dtype: float64"
      ]
     },
     "execution_count": 15,
     "metadata": {},
     "output_type": "execute_result"
    }
   ],
   "source": [
    "df.groupby('group').sum()['click_flg']/df.groupby('group').count()['click_flg']"
   ]
  },
  {
   "cell_type": "markdown",
   "id": "76e09887",
   "metadata": {},
   "source": [
    "Как видно, конверсия на тестовых данных уменьшилась до 29%."
   ]
  }
 ],
 "metadata": {
  "kernelspec": {
   "display_name": "Python 3 (ipykernel)",
   "language": "python",
   "name": "python3"
  },
  "language_info": {
   "codemirror_mode": {
    "name": "ipython",
    "version": 3
   },
   "file_extension": ".py",
   "mimetype": "text/x-python",
   "name": "python",
   "nbconvert_exporter": "python",
   "pygments_lexer": "ipython3",
   "version": "3.10.2"
  }
 },
 "nbformat": 4,
 "nbformat_minor": 5
}
