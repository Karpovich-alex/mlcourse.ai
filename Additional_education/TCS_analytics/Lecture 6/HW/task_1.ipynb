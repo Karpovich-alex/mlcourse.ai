{
 "cells": [
  {
   "cell_type": "code",
   "execution_count": 2,
   "id": "66febcbf",
   "metadata": {},
   "outputs": [],
   "source": [
    "import pandas as pd\n",
    "import numpy as np\n",
    "import matplotlib.pyplot as plt\n",
    "import scipy.stats as stats"
   ]
  },
  {
   "cell_type": "markdown",
   "id": "1af0490b",
   "metadata": {},
   "source": [
    "В файле test_1 лежит результат теста. (target - какая-то целевая метрика)\n",
    "\n",
    "Изучите результаты теста и сделайте вывод (проверяем гипотезу о равенстве средних). В качестве решения - ноутбук, в котором построено распределение параметра target в группах и проверены нужные критерии."
   ]
  },
  {
   "cell_type": "code",
   "execution_count": 3,
   "id": "25b1970e",
   "metadata": {},
   "outputs": [],
   "source": [
    "df = pd.read_csv(\"test_1.csv\")"
   ]
  },
  {
   "cell_type": "code",
   "execution_count": 8,
   "id": "53bccdb6",
   "metadata": {},
   "outputs": [
    {
     "data": {
      "text/html": [
       "<div>\n",
       "<style scoped>\n",
       "    .dataframe tbody tr th:only-of-type {\n",
       "        vertical-align: middle;\n",
       "    }\n",
       "\n",
       "    .dataframe tbody tr th {\n",
       "        vertical-align: top;\n",
       "    }\n",
       "\n",
       "    .dataframe thead th {\n",
       "        text-align: right;\n",
       "    }\n",
       "</style>\n",
       "<table border=\"1\" class=\"dataframe\">\n",
       "  <thead>\n",
       "    <tr style=\"text-align: right;\">\n",
       "      <th></th>\n",
       "      <th>group</th>\n",
       "      <th>client_id</th>\n",
       "      <th>target</th>\n",
       "    </tr>\n",
       "  </thead>\n",
       "  <tbody>\n",
       "    <tr>\n",
       "      <th>0</th>\n",
       "      <td>test</td>\n",
       "      <td>1</td>\n",
       "      <td>48.294046</td>\n",
       "    </tr>\n",
       "    <tr>\n",
       "      <th>1</th>\n",
       "      <td>test</td>\n",
       "      <td>2</td>\n",
       "      <td>50.561098</td>\n",
       "    </tr>\n",
       "    <tr>\n",
       "      <th>2</th>\n",
       "      <td>test</td>\n",
       "      <td>3</td>\n",
       "      <td>50.987911</td>\n",
       "    </tr>\n",
       "    <tr>\n",
       "      <th>3</th>\n",
       "      <td>test</td>\n",
       "      <td>4</td>\n",
       "      <td>47.819840</td>\n",
       "    </tr>\n",
       "    <tr>\n",
       "      <th>4</th>\n",
       "      <td>test</td>\n",
       "      <td>5</td>\n",
       "      <td>50.153417</td>\n",
       "    </tr>\n",
       "    <tr>\n",
       "      <th>...</th>\n",
       "      <td>...</td>\n",
       "      <td>...</td>\n",
       "      <td>...</td>\n",
       "    </tr>\n",
       "    <tr>\n",
       "      <th>1993</th>\n",
       "      <td>control</td>\n",
       "      <td>1994</td>\n",
       "      <td>50.207788</td>\n",
       "    </tr>\n",
       "    <tr>\n",
       "      <th>1994</th>\n",
       "      <td>control</td>\n",
       "      <td>1995</td>\n",
       "      <td>51.715447</td>\n",
       "    </tr>\n",
       "    <tr>\n",
       "      <th>1995</th>\n",
       "      <td>control</td>\n",
       "      <td>1996</td>\n",
       "      <td>56.551077</td>\n",
       "    </tr>\n",
       "    <tr>\n",
       "      <th>1996</th>\n",
       "      <td>control</td>\n",
       "      <td>1997</td>\n",
       "      <td>47.178478</td>\n",
       "    </tr>\n",
       "    <tr>\n",
       "      <th>1997</th>\n",
       "      <td>control</td>\n",
       "      <td>1998</td>\n",
       "      <td>49.434447</td>\n",
       "    </tr>\n",
       "  </tbody>\n",
       "</table>\n",
       "<p>1998 rows × 3 columns</p>\n",
       "</div>"
      ],
      "text/plain": [
       "        group  client_id     target\n",
       "0        test          1  48.294046\n",
       "1        test          2  50.561098\n",
       "2        test          3  50.987911\n",
       "3        test          4  47.819840\n",
       "4        test          5  50.153417\n",
       "...       ...        ...        ...\n",
       "1993  control       1994  50.207788\n",
       "1994  control       1995  51.715447\n",
       "1995  control       1996  56.551077\n",
       "1996  control       1997  47.178478\n",
       "1997  control       1998  49.434447\n",
       "\n",
       "[1998 rows x 3 columns]"
      ]
     },
     "execution_count": 8,
     "metadata": {},
     "output_type": "execute_result"
    }
   ],
   "source": [
    "df"
   ]
  },
  {
   "cell_type": "code",
   "execution_count": 19,
   "id": "792df3da",
   "metadata": {},
   "outputs": [
    {
     "name": "stdout",
     "output_type": "stream",
     "text": [
      "Normal W= 0.998 p-value 0.2941\n",
      "Normal W= 0.9992 p-value 0.9479\n"
     ]
    }
   ],
   "source": [
    "groups = df['group'].unique()\n",
    "for group in groups:\n",
    "    W_value, p_value = stats.shapiro(df[df['group']==group]['target'])\n",
    "    if p_value > 0.01:\n",
    "        print('Normal','W=',round(W_value,4),'p-value',round(p_value,4))\n",
    "    else:\n",
    "        print('Not normal','W=',round(W_value,4),'p-value',round(p_value,4))"
   ]
  },
  {
   "cell_type": "markdown",
   "id": "432a95dd",
   "metadata": {},
   "source": [
    "Значения имеют нормальное распределение."
   ]
  },
  {
   "cell_type": "code",
   "execution_count": 20,
   "id": "62893680",
   "metadata": {},
   "outputs": [
    {
     "data": {
      "image/png": "[encoded data removed]",
      "text/plain": [
       "<Figure size 432x288 with 1 Axes>"
      ]
     },
     "metadata": {
      "needs_background": "light"
     },
     "output_type": "display_data"
    },
    {
     "data": {
      "image/png": "[encoded data removed]",
      "text/plain": [
       "<Figure size 432x288 with 1 Axes>"
      ]
     },
     "metadata": {
      "needs_background": "light"
     },
     "output_type": "display_data"
    }
   ],
   "source": [
    "for group in groups:\n",
    "    stats.probplot(df[df['group']==group]['target'], dist=\"norm\", plot=plt)\n",
    "    plt.title(group)\n",
    "    plt.show()"
   ]
  },
  {
   "cell_type": "code",
   "execution_count": 27,
   "id": "760154fd",
   "metadata": {},
   "outputs": [
    {
     "data": {
      "text/plain": [
       "FlignerResult(statistic=0.0806259473132208, pvalue=0.7764509319188543)"
      ]
     },
     "execution_count": 27,
     "metadata": {},
     "output_type": "execute_result"
    }
   ],
   "source": [
    "stats.fligner(df[df['group']=='test']['target'],df[df['group']=='control']['target'], center='mean')"
   ]
  },
  {
   "cell_type": "markdown",
   "id": "1a92208b",
   "metadata": {},
   "source": [
    "pvalue>0.05 => Гипотезу о равенстве дисперсий принимаем."
   ]
  },
  {
   "cell_type": "code",
   "execution_count": 22,
   "id": "c242b6be",
   "metadata": {},
   "outputs": [
    {
     "name": "stdout",
     "output_type": "stream",
     "text": [
      "Есть статистически значимая разница \n",
      "t - критерий =  -9.878332719470977 \n",
      "p-value = 1.6802013491386015e-22\n"
     ]
    }
   ],
   "source": [
    "t2, p2 = stats.ttest_ind(df[df['group']=='test']['target'],df[df['group']=='control']['target'])\n",
    "\n",
    "\n",
    "if p2 > 0.05:\n",
    "    print('Нет статистически значимой разницы','\\nt - критерий = ',t2,'\\np-value =',p2)\n",
    "else:\n",
    "    print('Есть статистически значимая разница','\\nt - критерий = ',t2,'\\np-value =',p2)"
   ]
  },
  {
   "cell_type": "markdown",
   "id": "9fbd80a4",
   "metadata": {},
   "source": [
    "Как видно из проведенного t-теста, разница в средних значениях статистически значима."
   ]
  },
  {
   "cell_type": "code",
   "execution_count": 24,
   "id": "75545928",
   "metadata": {},
   "outputs": [
    {
     "name": "stdout",
     "output_type": "stream",
     "text": [
      "Среднее для test = 49.95894395407758\n",
      "Среднее для control = 51.067378748698374\n"
     ]
    }
   ],
   "source": [
    "for group in groups:\n",
    "    print(\"Среднее для\",group,\"=\",df[df['group']==group]['target'].mean())"
   ]
  },
  {
   "cell_type": "markdown",
   "id": "90716906",
   "metadata": {},
   "source": [
    "**Среднее значение для тестовой выборки уменьшилось**"
   ]
  }
 ],
 "metadata": {
  "kernelspec": {
   "display_name": "Python 3 (ipykernel)",
   "language": "python",
   "name": "python3"
  },
  "language_info": {
   "codemirror_mode": {
    "name": "ipython",
    "version": 3
   },
   "file_extension": ".py",
   "mimetype": "text/x-python",
   "name": "python",
   "nbconvert_exporter": "python",
   "pygments_lexer": "ipython3",
   "version": "3.10.2"
  }
 },
 "nbformat": 4,
 "nbformat_minor": 5
}
